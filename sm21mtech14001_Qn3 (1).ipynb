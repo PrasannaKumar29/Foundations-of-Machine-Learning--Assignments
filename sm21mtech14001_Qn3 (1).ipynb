{
 "cells": [
  {
   "cell_type": "markdown",
   "metadata": {
    "id": "tNswHlxFefqy"
   },
   "source": [
    "# **Important Note**\n",
    "The wine data set used for the below algorithm needed a very minor change in the class label names. i.e The Spaces in the names have been removed. \n",
    "**Example :  \"residual sugar\" is renamed as \"residualsugar\"**\n",
    "\n",
    "The csv file with modified labels is attached in the zip file\n",
    " "
   ]
  },
  {
   "cell_type": "code",
   "execution_count": 1,
   "metadata": {
    "id": "glN8WyfmJTo0"
   },
   "outputs": [],
   "source": [
    "import numpy as np\n",
    "import pandas as pd\n",
    "import random"
   ]
  },
  {
   "cell_type": "code",
   "execution_count": 2,
   "metadata": {
    "colab": {
     "base_uri": "https://localhost:8080/",
     "height": 203
    },
    "id": "mrl9aW_6JWFU",
    "outputId": "4d05bd35-7705-419d-baf8-0eaa3a25b942"
   },
   "outputs": [
    {
     "data": {
      "text/html": [
       "<div>\n",
       "<style scoped>\n",
       "    .dataframe tbody tr th:only-of-type {\n",
       "        vertical-align: middle;\n",
       "    }\n",
       "\n",
       "    .dataframe tbody tr th {\n",
       "        vertical-align: top;\n",
       "    }\n",
       "\n",
       "    .dataframe thead th {\n",
       "        text-align: right;\n",
       "    }\n",
       "</style>\n",
       "<table border=\"1\" class=\"dataframe\">\n",
       "  <thead>\n",
       "    <tr style=\"text-align: right;\">\n",
       "      <th></th>\n",
       "      <th>fixedacidity</th>\n",
       "      <th>volatileacidity</th>\n",
       "      <th>citricacid</th>\n",
       "      <th>residualsugar</th>\n",
       "      <th>chlorides</th>\n",
       "      <th>freesulfurdioxide</th>\n",
       "      <th>totalsulfurdioxide</th>\n",
       "      <th>density</th>\n",
       "      <th>pH</th>\n",
       "      <th>sulphates</th>\n",
       "      <th>alcohol</th>\n",
       "      <th>quality</th>\n",
       "    </tr>\n",
       "  </thead>\n",
       "  <tbody>\n",
       "    <tr>\n",
       "      <th>0</th>\n",
       "      <td>7.0</td>\n",
       "      <td>0.27</td>\n",
       "      <td>0.36</td>\n",
       "      <td>20.7</td>\n",
       "      <td>0.045</td>\n",
       "      <td>45.0</td>\n",
       "      <td>170.0</td>\n",
       "      <td>1.0010</td>\n",
       "      <td>3.00</td>\n",
       "      <td>0.45</td>\n",
       "      <td>8.8</td>\n",
       "      <td>0</td>\n",
       "    </tr>\n",
       "    <tr>\n",
       "      <th>1</th>\n",
       "      <td>6.3</td>\n",
       "      <td>0.30</td>\n",
       "      <td>0.34</td>\n",
       "      <td>1.6</td>\n",
       "      <td>0.049</td>\n",
       "      <td>14.0</td>\n",
       "      <td>132.0</td>\n",
       "      <td>0.9940</td>\n",
       "      <td>3.30</td>\n",
       "      <td>0.49</td>\n",
       "      <td>9.5</td>\n",
       "      <td>0</td>\n",
       "    </tr>\n",
       "    <tr>\n",
       "      <th>2</th>\n",
       "      <td>8.1</td>\n",
       "      <td>0.28</td>\n",
       "      <td>0.40</td>\n",
       "      <td>6.9</td>\n",
       "      <td>0.050</td>\n",
       "      <td>30.0</td>\n",
       "      <td>97.0</td>\n",
       "      <td>0.9951</td>\n",
       "      <td>3.26</td>\n",
       "      <td>0.44</td>\n",
       "      <td>10.1</td>\n",
       "      <td>0</td>\n",
       "    </tr>\n",
       "    <tr>\n",
       "      <th>3</th>\n",
       "      <td>7.2</td>\n",
       "      <td>0.23</td>\n",
       "      <td>0.32</td>\n",
       "      <td>8.5</td>\n",
       "      <td>0.058</td>\n",
       "      <td>47.0</td>\n",
       "      <td>186.0</td>\n",
       "      <td>0.9956</td>\n",
       "      <td>3.19</td>\n",
       "      <td>0.40</td>\n",
       "      <td>9.9</td>\n",
       "      <td>0</td>\n",
       "    </tr>\n",
       "    <tr>\n",
       "      <th>4</th>\n",
       "      <td>7.2</td>\n",
       "      <td>0.23</td>\n",
       "      <td>0.32</td>\n",
       "      <td>8.5</td>\n",
       "      <td>0.058</td>\n",
       "      <td>47.0</td>\n",
       "      <td>186.0</td>\n",
       "      <td>0.9956</td>\n",
       "      <td>3.19</td>\n",
       "      <td>0.40</td>\n",
       "      <td>9.9</td>\n",
       "      <td>0</td>\n",
       "    </tr>\n",
       "  </tbody>\n",
       "</table>\n",
       "</div>"
      ],
      "text/plain": [
       "   fixedacidity  volatileacidity  citricacid  residualsugar  chlorides  \\\n",
       "0           7.0             0.27        0.36           20.7      0.045   \n",
       "1           6.3             0.30        0.34            1.6      0.049   \n",
       "2           8.1             0.28        0.40            6.9      0.050   \n",
       "3           7.2             0.23        0.32            8.5      0.058   \n",
       "4           7.2             0.23        0.32            8.5      0.058   \n",
       "\n",
       "   freesulfurdioxide  totalsulfurdioxide  density    pH  sulphates  alcohol  \\\n",
       "0               45.0               170.0   1.0010  3.00       0.45      8.8   \n",
       "1               14.0               132.0   0.9940  3.30       0.49      9.5   \n",
       "2               30.0                97.0   0.9951  3.26       0.44     10.1   \n",
       "3               47.0               186.0   0.9956  3.19       0.40      9.9   \n",
       "4               47.0               186.0   0.9956  3.19       0.40      9.9   \n",
       "\n",
       "   quality  \n",
       "0        0  \n",
       "1        0  \n",
       "2        0  \n",
       "3        0  \n",
       "4        0  "
      ]
     },
     "execution_count": 2,
     "metadata": {},
     "output_type": "execute_result"
    }
   ],
   "source": [
    "path=r\"C:\\Users\\Prasanna\\Desktop\\wine-dataset1.csv\"\n",
    "df=pd.read_csv(path)\n",
    "df.head()"
   ]
  },
  {
   "cell_type": "markdown",
   "metadata": {
    "id": "FsQmvJuSNqmK"
   },
   "source": [
    "# Function Definitions"
   ]
  },
  {
   "cell_type": "code",
   "execution_count": 3,
   "metadata": {
    "id": "2FZnXF71Jmma"
   },
   "outputs": [],
   "source": [
    "def Is_Pure(data): #To detect the leaf\n",
    "    \n",
    "    quality_column = data[:, -1] #extracting only the labels (i.e quality column in our data set)\n",
    "    unique_qualities = np.unique(quality_column)\n",
    "    if len(unique_qualities) == 1:\n",
    "        return True\n",
    "    else:\n",
    "        return False"
   ]
  },
  {
   "cell_type": "code",
   "execution_count": 4,
   "metadata": {
    "id": "7CL3H9s0Jp5z"
   },
   "outputs": [],
   "source": [
    "def ClassForPureData(data):  #This function is used to return the class label of the pure data set or it can also be used when we need to pick majority class from a data\n",
    "    \n",
    "    quality_column = data[:, -1] \n",
    "    classlabels,classcounts=np.unique(quality_column,return_counts=True)\n",
    "    majorityclassindex= np.argmax(classcounts)\n",
    "    classi= classlabels[majorityclassindex]\n",
    "\n",
    "    return classi"
   ]
  },
  {
   "cell_type": "code",
   "execution_count": 5,
   "metadata": {
    "id": "SXqKSb1xJs2j"
   },
   "outputs": [],
   "source": [
    "def splits(data): #To find the feasible split values under a column label\n",
    "    \n",
    "    splits = {} #creating an empty dictionary to store the splits with key of the dictionary as attribute index and values as various splits\n",
    "    row,col = data.shape #to get the number of columns to iterate over the columns\n",
    "    for i in range(col- 1):        # excluding the last column which is the quality label\n",
    "        splits[i] = []\n",
    "        tot_col = data[:, i] #to extract the total column of ith attribute\n",
    "        uni_val = np.unique(tot_col)  #to weed out the repeated or duplicate values of the column\n",
    "\n",
    "        for index in range(len(uni_val)):\n",
    "            if index != 0: #to exclude first element as it does not have a previous value\n",
    "                cr_val = uni_val[index]\n",
    "                prev_val = uni_val[index - 1]\n",
    "                split_value = (cr_val + prev_val) / 2\n",
    "                \n",
    "                splits[i].append(split_value)\n",
    "    \n",
    "    return splits"
   ]
  },
  {
   "cell_type": "code",
   "execution_count": 6,
   "metadata": {
    "id": "kmHBerXQJvYb"
   },
   "outputs": [],
   "source": [
    "def split_data(data, column_to_split, value_to_split): #This fuction splits the data into two halves based on a value to split \n",
    "    \n",
    "    split_column_values = data[:, column_to_split]\n",
    "\n",
    "    left_data = data[split_column_values <= value_to_split]\n",
    "    right_data = data[split_column_values > value_to_split]\n",
    "    \n",
    "    return left_data, right_data"
   ]
  },
  {
   "cell_type": "code",
   "execution_count": 7,
   "metadata": {
    "id": "FuGOYUR8JyKy"
   },
   "outputs": [],
   "source": [
    "def entropy(data):\n",
    "    \n",
    "    quality_column = data[:, -1]\n",
    "    classlabels, classcounts = np.unique(quality_column, return_counts=True) #extract the counts of classes in dataset\n",
    "    \n",
    "    #numpy does element wise operations. So probabilities and entropy can be calculated as\n",
    "    probab = classcounts/ classcounts.sum()\n",
    "    entropy = sum(probab * -np.log2(probab))\n",
    "     \n",
    "    return entropy"
   ]
  },
  {
   "cell_type": "code",
   "execution_count": 8,
   "metadata": {
    "id": "n5bVcYd4J0qz"
   },
   "outputs": [],
   "source": [
    "def weighted_entropy(ldata, rdata):\n",
    "    \n",
    "    tot_data = len(ldata) + len(rdata)\n",
    "    prob_ldata = len(ldata) / tot_data\n",
    "    prob_rdata = len(rdata) / tot_data\n",
    "\n",
    "    weigh_entro =  (prob_ldata * entropy(ldata) \n",
    "                      + prob_rdata * entropy(rdata))\n",
    "    \n",
    "    return weigh_entro"
   ]
  },
  {
   "cell_type": "code",
   "execution_count": 9,
   "metadata": {
    "id": "KvBSYfvIJ3CD"
   },
   "outputs": [],
   "source": [
    "def best_split_entropy(data, potential_splits):\n",
    "    \n",
    "    arbit_entropy = 100\n",
    "    for column_index in potential_splits:\n",
    "        for value in potential_splits[column_index]:\n",
    "            data_left, data_right = split_data(data, column_to_split=column_index, value_to_split=value)\n",
    "            presentweigh_entropy = weighted_entropy(data_left, data_right)\n",
    "\n",
    "            if presentweigh_entropy <= arbit_entropy:\n",
    "                arbit_entropy = presentweigh_entropy\n",
    "                best_split_column = column_index\n",
    "                best_split_value = value\n",
    "    \n",
    "    return best_split_column, best_split_value"
   ]
  },
  {
   "cell_type": "code",
   "execution_count": 10,
   "metadata": {
    "id": "h1VEHJBLJ82j"
   },
   "outputs": [],
   "source": [
    "def splitTrainandTest(df, testdatasize):\n",
    "\n",
    "    testdatasize = round(testdatasize * len(df))\n",
    "\n",
    "    indices = df.index.tolist()\n",
    "    test_points = random.sample(population=indices, k=testdatasize)\n",
    "\n",
    "    test_set = df.loc[test_points]\n",
    "    train_set = df.drop(test_points)\n",
    "    \n",
    "    return train_set, test_set"
   ]
  },
  {
   "cell_type": "code",
   "execution_count": 11,
   "metadata": {
    "id": "SWrHcWoVKB7r"
   },
   "outputs": [],
   "source": [
    "def dtree_algo_entropy(df, flag=0):\n",
    "    \n",
    "    global column_labels #To extract the column names in the form of strings and replace in the model instead of column index\n",
    "    if flag == 0: # First time the data enters as pandas dataframe and it needs to be converted to numpy 2D array for working with functions \n",
    "        column_labels = df.columns\n",
    "        data = df.values\n",
    "    else:\n",
    "        data = df           \n",
    "    \n",
    "    if Is_Pure(data): #This acts as the base case if the data contains only one class\n",
    "        classi = ClassForPureData(data) #identifies which class \n",
    "        return classi\n",
    "\n",
    "    else:     #The recursive part starts here if the data is not pure.\n",
    "        feasible_splits = splits(data)\n",
    "        split_column, split_value = best_split_entropy(data, feasible_splits)\n",
    "        l_data, r_data = split_data(data, split_column, split_value)\n",
    "        flag=flag+1\n",
    "        \n",
    "        feature_name = column_labels[split_column]\n",
    "        question = \"{} <= {}\".format(feature_name, split_value)\n",
    "        sub_tree = {question: []}\n",
    "    \n",
    "        yes_answer = dtree_algo_entropy(l_data, flag)\n",
    "        no_answer = dtree_algo_entropy(r_data, flag)\n",
    "        \n",
    "        if yes_answer == no_answer:\n",
    "            sub_tree = yes_answer\n",
    "        else:\n",
    "            sub_tree[question].append(yes_answer)\n",
    "            sub_tree[question].append(no_answer)\n",
    "        \n",
    "        return sub_tree"
   ]
  },
  {
   "cell_type": "code",
   "execution_count": 12,
   "metadata": {
    "id": "LSt1_YJBKHhq"
   },
   "outputs": [],
   "source": [
    "def classify_datapoint(data_point, model):  #This function gets input as each data point(i.e all the 11 features) and says the classification\n",
    "    ques = list(model.keys())[0]  #The tree is basically a dictionary with contains of a key and value basically. Here we are picking the first key which will be the dictionary\n",
    "    col_name, operator, value = ques.split()\n",
    "\n",
    "    if data_point[col_name] <= float(value):\n",
    "        ans = model[ques][0]                   #note: general form of tree is tree={question,[positive_answer,negative_answer]}\n",
    "    else:\n",
    "        ans = model[ques][1]\n",
    "\n",
    "    if isinstance(ans, dict): #checking if we narrow down at a class label or again a question in the form of dictionary\n",
    "        residual_tree = ans\n",
    "        return classify_datapoint(data_point, residual_tree)\n",
    "    else:\n",
    "      return ans\n",
    "        "
   ]
  },
  {
   "cell_type": "code",
   "execution_count": 13,
   "metadata": {
    "id": "fw_at9HkKKRh"
   },
   "outputs": [],
   "source": [
    "def calculate_accuracy(df, model):\n",
    "\n",
    "    df[\"predicted_class\"] = df.apply(classify_datapoint, axis=1, args=(model,)) #Adds a column named \"predicted class\" in the data frame which consists of predicted class of all test data\n",
    "    df[\"actual_predicted_compare\"] = df.predicted_class == df.quality #compares the predicted class column with the actual quality column\n",
    "    \n",
    "    accuracy = df.actual_predicted_compare.mean()\n",
    "    \n",
    "    return accuracy"
   ]
  },
  {
   "cell_type": "code",
   "execution_count": 14,
   "metadata": {
    "colab": {
     "base_uri": "https://localhost:8080/",
     "height": 203
    },
    "id": "kx52edh3gPgy",
    "outputId": "bf2be256-f228-4801-f431-c3b8b818fd22"
   },
   "outputs": [
    {
     "data": {
      "text/html": [
       "<div>\n",
       "<style scoped>\n",
       "    .dataframe tbody tr th:only-of-type {\n",
       "        vertical-align: middle;\n",
       "    }\n",
       "\n",
       "    .dataframe tbody tr th {\n",
       "        vertical-align: top;\n",
       "    }\n",
       "\n",
       "    .dataframe thead th {\n",
       "        text-align: right;\n",
       "    }\n",
       "</style>\n",
       "<table border=\"1\" class=\"dataframe\">\n",
       "  <thead>\n",
       "    <tr style=\"text-align: right;\">\n",
       "      <th></th>\n",
       "      <th>fixedacidity</th>\n",
       "      <th>volatileacidity</th>\n",
       "      <th>citricacid</th>\n",
       "      <th>residualsugar</th>\n",
       "      <th>chlorides</th>\n",
       "      <th>freesulfurdioxide</th>\n",
       "      <th>totalsulfurdioxide</th>\n",
       "      <th>density</th>\n",
       "      <th>pH</th>\n",
       "      <th>sulphates</th>\n",
       "      <th>alcohol</th>\n",
       "      <th>quality</th>\n",
       "    </tr>\n",
       "  </thead>\n",
       "  <tbody>\n",
       "    <tr>\n",
       "      <th>3</th>\n",
       "      <td>7.2</td>\n",
       "      <td>0.23</td>\n",
       "      <td>0.32</td>\n",
       "      <td>8.5</td>\n",
       "      <td>0.058</td>\n",
       "      <td>47.0</td>\n",
       "      <td>186.0</td>\n",
       "      <td>0.9956</td>\n",
       "      <td>3.19</td>\n",
       "      <td>0.40</td>\n",
       "      <td>9.9</td>\n",
       "      <td>0</td>\n",
       "    </tr>\n",
       "    <tr>\n",
       "      <th>5</th>\n",
       "      <td>8.1</td>\n",
       "      <td>0.28</td>\n",
       "      <td>0.40</td>\n",
       "      <td>6.9</td>\n",
       "      <td>0.050</td>\n",
       "      <td>30.0</td>\n",
       "      <td>97.0</td>\n",
       "      <td>0.9951</td>\n",
       "      <td>3.26</td>\n",
       "      <td>0.44</td>\n",
       "      <td>10.1</td>\n",
       "      <td>0</td>\n",
       "    </tr>\n",
       "    <tr>\n",
       "      <th>6</th>\n",
       "      <td>6.2</td>\n",
       "      <td>0.32</td>\n",
       "      <td>0.16</td>\n",
       "      <td>7.0</td>\n",
       "      <td>0.045</td>\n",
       "      <td>30.0</td>\n",
       "      <td>136.0</td>\n",
       "      <td>0.9949</td>\n",
       "      <td>3.18</td>\n",
       "      <td>0.47</td>\n",
       "      <td>9.6</td>\n",
       "      <td>0</td>\n",
       "    </tr>\n",
       "    <tr>\n",
       "      <th>7</th>\n",
       "      <td>7.0</td>\n",
       "      <td>0.27</td>\n",
       "      <td>0.36</td>\n",
       "      <td>20.7</td>\n",
       "      <td>0.045</td>\n",
       "      <td>45.0</td>\n",
       "      <td>170.0</td>\n",
       "      <td>1.0010</td>\n",
       "      <td>3.00</td>\n",
       "      <td>0.45</td>\n",
       "      <td>8.8</td>\n",
       "      <td>0</td>\n",
       "    </tr>\n",
       "    <tr>\n",
       "      <th>8</th>\n",
       "      <td>6.3</td>\n",
       "      <td>0.30</td>\n",
       "      <td>0.34</td>\n",
       "      <td>1.6</td>\n",
       "      <td>0.049</td>\n",
       "      <td>14.0</td>\n",
       "      <td>132.0</td>\n",
       "      <td>0.9940</td>\n",
       "      <td>3.30</td>\n",
       "      <td>0.49</td>\n",
       "      <td>9.5</td>\n",
       "      <td>0</td>\n",
       "    </tr>\n",
       "  </tbody>\n",
       "</table>\n",
       "</div>"
      ],
      "text/plain": [
       "   fixedacidity  volatileacidity  citricacid  residualsugar  chlorides  \\\n",
       "3           7.2             0.23        0.32            8.5      0.058   \n",
       "5           8.1             0.28        0.40            6.9      0.050   \n",
       "6           6.2             0.32        0.16            7.0      0.045   \n",
       "7           7.0             0.27        0.36           20.7      0.045   \n",
       "8           6.3             0.30        0.34            1.6      0.049   \n",
       "\n",
       "   freesulfurdioxide  totalsulfurdioxide  density    pH  sulphates  alcohol  \\\n",
       "3               47.0               186.0   0.9956  3.19       0.40      9.9   \n",
       "5               30.0                97.0   0.9951  3.26       0.44     10.1   \n",
       "6               30.0               136.0   0.9949  3.18       0.47      9.6   \n",
       "7               45.0               170.0   1.0010  3.00       0.45      8.8   \n",
       "8               14.0               132.0   0.9940  3.30       0.49      9.5   \n",
       "\n",
       "   quality  \n",
       "3        0  \n",
       "5        0  \n",
       "6        0  \n",
       "7        0  \n",
       "8        0  "
      ]
     },
     "execution_count": 14,
     "metadata": {},
     "output_type": "execute_result"
    }
   ],
   "source": [
    "random.seed(0) #random seed is set to have same training and testing set for implementing tree with gini index too\n",
    "train_d,test_d= splitTrainandTest(df, testdatasize=0.4)\n",
    "train_d.head()"
   ]
  },
  {
   "cell_type": "code",
   "execution_count": 15,
   "metadata": {
    "colab": {
     "base_uri": "https://localhost:8080/"
    },
    "id": "QCyZGHPfpq58",
    "outputId": "55aeeeb7-e90a-47e4-9d9f-61783e1787aa"
   },
   "outputs": [
    {
     "data": {
      "text/plain": [
       "{'alcohol <= 10.850000000000001': [{'volatileacidity <= 0.2025': [{'density <= 0.99788': [{'totalsulfurdioxide <= 140.5': [{'freesulfurdioxide <= 27.5': [{'pH <= 3.565': [{'fixedacidity <= 6.55': [{'chlorides <= 0.0265': [1.0,\n",
       "                0.0]},\n",
       "              {'pH <= 3.145': [{'sulphates <= 0.375': [{'totalsulfurdioxide <= 98.0': [0.0,\n",
       "                    {'pH <= 2.91': [0.0, 1.0]}]},\n",
       "                  0.0]},\n",
       "                {'pH <= 3.165': [1.0,\n",
       "                  {'chlorides <= 0.0515': [{'sulphates <= 0.505': [{'residualsugar <= 1.7000000000000002': [0.0,\n",
       "                        1.0]},\n",
       "                      {'density <= 0.993865': [{'freesulfurdioxide <= 19.5': [0.0,\n",
       "                          1.0]},\n",
       "                        0.0]}]},\n",
       "                    0.0]}]}]}]},\n",
       "            1.0]},\n",
       "          {'sulphates <= 0.53': [{'volatileacidity <= 0.155': [{'alcohol <= 10.05': [{'fixedacidity <= 6.75': [0.0,\n",
       "                  {'sulphates <= 0.44': [{'residualsugar <= 10.100000000000001': [0.0,\n",
       "                      {'density <= 0.997385': [1.0, 0.0]}]},\n",
       "                    1.0]}]},\n",
       "                {'sulphates <= 0.445': [1.0, 0.0]}]},\n",
       "              {'alcohol <= 9.55': [0.0,\n",
       "                {'density <= 0.9925550000000001': [0.0,\n",
       "                  {'pH <= 3.115': [1.0,\n",
       "                    {'sulphates <= 0.415': [0.0,\n",
       "                      {'citricacid <= 0.345': [{'citricacid <= 0.245': [0.0,\n",
       "                          1.0]},\n",
       "                        0.0]}]}]}]}]}]},\n",
       "            {'citricacid <= 0.245': [0.0,\n",
       "              {'totalsulfurdioxide <= 119.5': [{'density <= 0.99427': [{'volatileacidity <= 0.165': [{'sulphates <= 0.585': [1.0,\n",
       "                      0.0]},\n",
       "                    1.0]},\n",
       "                  0.0]},\n",
       "                {'freesulfurdioxide <= 33.5': [0.0, 1.0]}]}]}]}]},\n",
       "        {'totalsulfurdioxide <= 161.5': [{'alcohol <= 9.05': [{'sulphates <= 0.485': [0.0,\n",
       "              1.0]},\n",
       "            0.0]},\n",
       "          {'density <= 0.99535': [{'freesulfurdioxide <= 73.25': [{'pH <= 3.1550000000000002': [0.0,\n",
       "                {'sulphates <= 0.435': [{'sulphates <= 0.375': [0.0, 1.0]},\n",
       "                  {'pH <= 3.1900000000000004': [1.0, 0.0]}]}]},\n",
       "              {'alcohol <= 9.600000000000001': [0.0, 1.0]}]},\n",
       "            {'pH <= 3.0949999999999998': [{'alcohol <= 9.75': [0.0, 1.0]},\n",
       "              0.0]}]}]}]},\n",
       "      {'citricacid <= 0.305': [{'alcohol <= 9.149999999999999': [{'sulphates <= 0.5900000000000001': [1.0,\n",
       "            0.0]},\n",
       "          0.0]},\n",
       "        {'density <= 0.9997': [0.0,\n",
       "          {'totalsulfurdioxide <= 154.0': [1.0,\n",
       "            {'alcohol <= 9.2': [0.0,\n",
       "              {'sulphates <= 0.45499999999999996': [0.0, 1.0]}]}]}]}]}]},\n",
       "    {'alcohol <= 10.149999999999999': [{'volatileacidity <= 0.3425': [{'fixedacidity <= 6.95': [{'pH <= 3.355': [{'volatileacidity <= 0.215': [{'density <= 0.9955': [{'totalsulfurdioxide <= 143.0': [0.0,\n",
       "                  1.0]},\n",
       "                0.0]},\n",
       "              {'volatileacidity <= 0.3375': [0.0,\n",
       "                {'totalsulfurdioxide <= 129.5': [{'alcohol <= 9.4': [1.0,\n",
       "                    0.0]},\n",
       "                  0.0]}]}]},\n",
       "            {'chlorides <= 0.0395': [{'residualsugar <= 3.4': [0.0,\n",
       "                {'volatileacidity <= 0.275': [{'volatileacidity <= 0.245': [1.0,\n",
       "                    0.0]},\n",
       "                  1.0]}]},\n",
       "              {'density <= 0.994': [{'alcohol <= 9.95': [0.0, 1.0]}, 0.0]}]}]},\n",
       "          {'residualsugar <= 12.55': [{'density <= 0.9936400000000001': [{'residualsugar <= 2.0': [{'freesulfurdioxide <= 49.0': [0.0,\n",
       "                  {'alcohol <= 9.55': [0.0, 1.0]}]},\n",
       "                {'alcohol <= 9.6': [0.0, 1.0]}]},\n",
       "              0.0]},\n",
       "            {'alcohol <= 8.649999999999999': [1.0,\n",
       "              {'fixedacidity <= 7.35': [{'alcohol <= 8.850000000000001': [0.0,\n",
       "                  {'freesulfurdioxide <= 60.25': [{'volatileacidity <= 0.245': [{'totalsulfurdioxide <= 143.75': [1.0,\n",
       "                        {'pH <= 3.005': [{'sulphates <= 0.47': [0.0, 1.0]},\n",
       "                          0.0]}]},\n",
       "                      {'residualsugar <= 18.0': [{'pH <= 3.295': [{'density <= 0.99825': [{'alcohol <= 9.45': [0.0,\n",
       "                              1.0]},\n",
       "                            1.0]},\n",
       "                          0.0]},\n",
       "                        0.0]}]},\n",
       "                    0.0]}]},\n",
       "                {'chlorides <= 0.0445': [{'citricacid <= 0.33': [{'alcohol <= 9.649999999999999': [1.0,\n",
       "                      0.0]},\n",
       "                    0.0]},\n",
       "                  0.0]}]}]}]}]},\n",
       "        0.0]},\n",
       "      {'sulphates <= 0.415': [{'residualsugar <= 8.95': [0.0,\n",
       "          {'chlorides <= 0.0365': [{'pH <= 3.395': [{'residualsugar <= 9.15': [1.0,\n",
       "                0.0]},\n",
       "              1.0]},\n",
       "            0.0]}]},\n",
       "        {'density <= 0.995235': [{'freesulfurdioxide <= 29.5': [{'density <= 0.99385': [{'totalsulfurdioxide <= 92.5': [0.0,\n",
       "                {'pH <= 2.935': [1.0,\n",
       "                  {'pH <= 3.295': [{'sulphates <= 0.73': [{'totalsulfurdioxide <= 96.5': [1.0,\n",
       "                        0.0]},\n",
       "                      1.0]},\n",
       "                    {'citricacid <= 0.265': [{'totalsulfurdioxide <= 151.5': [0.0,\n",
       "                        1.0]},\n",
       "                      {'pH <= 3.3499999999999996': [1.0,\n",
       "                        {'density <= 0.992665': [1.0, 0.0]}]}]}]}]}]},\n",
       "              0.0]},\n",
       "            {'citricacid <= 0.245': [0.0,\n",
       "              {'pH <= 3.285': [{'chlorides <= 0.0405': [{'citricacid <= 0.275': [1.0,\n",
       "                    {'fixedacidity <= 7.949999999999999': [{'volatileacidity <= 0.235': [{'alcohol <= 10.7': [0.0,\n",
       "                          1.0]},\n",
       "                        {'pH <= 3.255': [0.0, 1.0]}]},\n",
       "                      1.0]}]},\n",
       "                  {'volatileacidity <= 0.215': [1.0,\n",
       "                    {'residualsugar <= 10.6': [0.0, 1.0]}]}]},\n",
       "                {'freesulfurdioxide <= 52.5': [{'chlorides <= 0.044': [1.0,\n",
       "                    {'sulphates <= 0.7050000000000001': [{'citricacid <= 0.38': [1.0,\n",
       "                        {'sulphates <= 0.495': [1.0, 0.0]}]},\n",
       "                      0.0]}]},\n",
       "                  0.0]}]}]}]},\n",
       "          {'density <= 0.996975': [0.0,\n",
       "            {'citricacid <= 0.445': [{'chlorides <= 0.042499999999999996': [{'sulphates <= 0.575': [0.0,\n",
       "                  1.0]},\n",
       "                0.0]},\n",
       "              {'sulphates <= 0.58': [1.0, 0.0]}]}]}]}]}]}]},\n",
       "  {'alcohol <= 12.55': [{'freesulfurdioxide <= 11.5': [{'alcohol <= 11.05': [{'pH <= 3.2649999999999997': [0.0,\n",
       "          1.0]},\n",
       "        {'volatileacidity <= 0.51': [0.0, {'alcohol <= 12.45': [0.0, 1.0]}]}]},\n",
       "      {'sulphates <= 0.585': [{'chlorides <= 0.0345': [{'residualsugar <= 1.8250000000000002': [{'sulphates <= 0.505': [{'alcohol <= 11.149999999999999': [{'chlorides <= 0.0295': [{'sulphates <= 0.445': [0.0,\n",
       "                    1.0]},\n",
       "                  1.0]},\n",
       "                {'density <= 0.9892799999999999': [0.0,\n",
       "                  {'density <= 0.99165': [{'totalsulfurdioxide <= 77.0': [0.0,\n",
       "                      {'residualsugar <= 0.975': [0.0,\n",
       "                        {'chlorides <= 0.0285': [{'alcohol <= 12.0': [{'alcohol <= 11.55': [{'sulphates <= 0.44': [1.0,\n",
       "                                0.0]},\n",
       "                              0.0]},\n",
       "                            1.0]},\n",
       "                          {'fixedacidity <= 6.35': [0.0,\n",
       "                            {'alcohol <= 11.8': [1.0,\n",
       "                              {'fixedacidity <= 7.35': [{'sulphates <= 0.365': [0.0,\n",
       "                                  1.0]},\n",
       "                                0.0]}]}]}]}]}]},\n",
       "                    0.0]}]}]},\n",
       "              {'freesulfurdioxide <= 12.5': [1.0, 0.0]}]},\n",
       "            {'fixedacidity <= 8.05': [{'chlorides <= 0.0265': [{'freesulfurdioxide <= 35.5': [{'volatileacidity <= 0.33499999999999996': [{'totalsulfurdioxide <= 86.0': [{'alcohol <= 11.95': [1.0,\n",
       "                        0.0]},\n",
       "                      0.0]},\n",
       "                    {'citricacid <= 0.265': [0.0, 1.0]}]},\n",
       "                  {'sulphates <= 0.35': [0.0, 1.0]}]},\n",
       "                {'residualsugar <= 2.25': [1.0,\n",
       "                  {'density <= 0.9954000000000001': [{'density <= 0.99475': [{'totalsulfurdioxide <= 106.5': [{'totalsulfurdioxide <= 97.5': [{'citricacid <= 0.275': [0.0,\n",
       "                            {'freesulfurdioxide <= 27.0': [{'totalsulfurdioxide <= 77.5': [0.0,\n",
       "                                1.0]},\n",
       "                              {'alcohol <= 11.5': [1.0,\n",
       "                                {'sulphates <= 0.45': [0.0, 1.0]}]}]}]},\n",
       "                          1.0]},\n",
       "                        {'freesulfurdioxide <= 19.5': [0.0,\n",
       "                          {'citricacid <= 0.20500000000000002': [0.0,\n",
       "                            {'pH <= 3.4450000000000003': [{'fixedacidity <= 5.35': [{'sulphates <= 0.37': [1.0,\n",
       "                                  0.0]},\n",
       "                                {'citricacid <= 0.275': [1.0,\n",
       "                                  {'volatileacidity <= 0.305': [{'citricacid <= 0.415': [{'alcohol <= 11.75': [0.0,\n",
       "                                        {'citricacid <= 0.335': [0.0,\n",
       "                                          {'totalsulfurdioxide <= 119.0': [{'pH <= 3.05': [1.0,\n",
       "                                              0.0]},\n",
       "                                            1.0]}]}]},\n",
       "                                      {'freesulfurdioxide <= 46.5': [1.0,\n",
       "                                        {'alcohol <= 12.0': [0.0, 1.0]}]}]},\n",
       "                                    {'pH <= 3.07': [0.0,\n",
       "                                      {'citricacid <= 0.5349999999999999': [1.0,\n",
       "                                        0.0]}]}]}]}]},\n",
       "                              1.0]}]}]}]},\n",
       "                      1.0]},\n",
       "                    0.0]}]}]},\n",
       "              {'chlorides <= 0.023': [1.0,\n",
       "                {'pH <= 3.1399999999999997': [0.0,\n",
       "                  {'alcohol <= 11.65': [1.0, 0.0]}]}]}]}]},\n",
       "          {'alcohol <= 11.575': [{'density <= 0.9956': [{'freesulfurdioxide <= 28.5': [{'volatileacidity <= 0.185': [{'pH <= 3.0949999999999998': [0.0,\n",
       "                    {'density <= 0.99175': [{'sulphates <= 0.485': [{'volatileacidity <= 0.13': [1.0,\n",
       "                          0.0]},\n",
       "                        1.0]},\n",
       "                      1.0]}]},\n",
       "                  {'pH <= 3.1550000000000002': [0.0,\n",
       "                    {'pH <= 3.175': [{'alcohol <= 11.05': [1.0, 0.0]},\n",
       "                      {'sulphates <= 0.375': [{'citricacid <= 0.33': [1.0,\n",
       "                          0.0]},\n",
       "                        0.0]}]}]}]},\n",
       "                {'citricacid <= 0.225': [0.0,\n",
       "                  {'pH <= 3.415': [{'pH <= 2.965': [0.0,\n",
       "                      {'pH <= 2.9800000000000004': [1.0,\n",
       "                        {'pH <= 3.065': [{'freesulfurdioxide <= 32.5': [{'alcohol <= 11.100000000000001': [0.0,\n",
       "                              1.0]},\n",
       "                            0.0]},\n",
       "                          {'density <= 0.99403': [{'residualsugar <= 4.85': [{'chlorides <= 0.0395': [{'totalsulfurdioxide <= 152.5': [{'totalsulfurdioxide <= 128.5': [{'citricacid <= 0.315': [0.0,\n",
       "                                      {'alcohol <= 11.0': [0.0, 1.0]}]},\n",
       "                                    1.0]},\n",
       "                                  0.0]},\n",
       "                                {'alcohol <= 11.350000000000001': [{'density <= 0.992375': [{'pH <= 3.325': [{'density <= 0.9906900000000001': [{'pH <= 3.205': [1.0,\n",
       "                                          0.0]},\n",
       "                                        0.0]},\n",
       "                                      1.0]},\n",
       "                                    {'pH <= 3.3049999999999997': [1.0, 0.0]}]},\n",
       "                                  {'freesulfurdioxide <= 37.0': [1.0,\n",
       "                                    {'chlorides <= 0.041499999999999995': [{'sulphates <= 0.475': [1.0,\n",
       "                                        0.0]},\n",
       "                                      0.0]}]}]}]},\n",
       "                              {'totalsulfurdioxide <= 129.0': [{'density <= 0.993215': [0.0,\n",
       "                                  1.0]},\n",
       "                                0.0]}]},\n",
       "                            {'pH <= 3.33': [{'pH <= 3.09': [0.0, 1.0]},\n",
       "                              0.0]}]}]}]}]},\n",
       "                    0.0]}]}]},\n",
       "              1.0]},\n",
       "            {'totalsulfurdioxide <= 162.5': [{'freesulfurdioxide <= 18.5': [{'totalsulfurdioxide <= 135.5': [0.0,\n",
       "                  1.0]},\n",
       "                {'pH <= 2.965': [0.0,\n",
       "                  {'fixedacidity <= 6.35': [{'chlorides <= 0.042499999999999996': [{'pH <= 3.275': [{'alcohol <= 11.7': [{'sulphates <= 0.375': [1.0,\n",
       "                            0.0]},\n",
       "                          0.0]},\n",
       "                        {'pH <= 3.315': [1.0,\n",
       "                          {'sulphates <= 0.41000000000000003': [1.0,\n",
       "                            {'pH <= 3.455': [0.0,\n",
       "                              {'pH <= 3.615': [1.0, 0.0]}]}]}]}]},\n",
       "                      0.0]},\n",
       "                    {'residualsugar <= 1.35': [{'citricacid <= 0.44': [0.0,\n",
       "                        {'alcohol <= 12.3': [1.0, 0.0]}]},\n",
       "                      {'volatileacidity <= 0.195': [1.0,\n",
       "                        {'residualsugar <= 1.85': [{'totalsulfurdioxide <= 141.5': [{'chlorides <= 0.0475': [0.0,\n",
       "                              1.0]},\n",
       "                            1.0]},\n",
       "                          {'residualsugar <= 3.75': [{'volatileacidity <= 0.245': [{'alcohol <= 11.95': [1.0,\n",
       "                                {'totalsulfurdioxide <= 136.5': [0.0, 1.0]}]},\n",
       "                              1.0]},\n",
       "                            {'residualsugar <= 4.95': [0.0,\n",
       "                              {'pH <= 3.035': [1.0,\n",
       "                                {'pH <= 3.3200000000000003': [{'volatileacidity <= 0.33999999999999997': [{'totalsulfurdioxide <= 158.0': [0.0,\n",
       "                                      1.0]},\n",
       "                                    {'pH <= 3.1550000000000002': [1.0,\n",
       "                                      {'alcohol <= 12.2': [0.0, 1.0]}]}]},\n",
       "                                  1.0]}]}]}]}]}]}]}]}]}]},\n",
       "              0.0]}]}]},\n",
       "        {'freesulfurdioxide <= 62.5': [{'pH <= 3.065': [{'alcohol <= 12.4': [0.0,\n",
       "              {'sulphates <= 0.685': [1.0, 0.0]}]},\n",
       "            {'pH <= 3.545': [{'pH <= 3.225': [{'pH <= 3.0949999999999998': [{'sulphates <= 0.685': [1.0,\n",
       "                    {'alcohol <= 11.2': [0.0,\n",
       "                      {'alcohol <= 11.95': [1.0, 0.0]}]}]},\n",
       "                  {'totalsulfurdioxide <= 94.0': [0.0,\n",
       "                    {'alcohol <= 11.25': [0.0,\n",
       "                      {'pH <= 3.105': [0.0,\n",
       "                        {'totalsulfurdioxide <= 110.0': [1.0,\n",
       "                          {'volatileacidity <= 0.245': [{'citricacid <= 0.325': [1.0,\n",
       "                              {'alcohol <= 11.350000000000001': [1.0, 0.0]}]},\n",
       "                            0.0]}]}]}]}]}]},\n",
       "                {'volatileacidity <= 0.165': [1.0,\n",
       "                  {'residualsugar <= 2.05': [{'pH <= 3.2800000000000002': [1.0,\n",
       "                      {'chlorides <= 0.0345': [{'residualsugar <= 1.65': [1.0,\n",
       "                          {'alcohol <= 11.350000000000001': [1.0, 0.0]}]},\n",
       "                        {'totalsulfurdioxide <= 73.0': [1.0, 0.0]}]}]},\n",
       "                    {'citricacid <= 0.435': [{'residualsugar <= 4.35': [1.0,\n",
       "                        {'citricacid <= 0.295': [0.0, 1.0]}]},\n",
       "                      {'totalsulfurdioxide <= 99.5': [0.0,\n",
       "                        {'sulphates <= 0.69': [1.0, 0.0]}]}]}]}]}]},\n",
       "              0.0]}]},\n",
       "          1.0]}]}]},\n",
       "    {'freesulfurdioxide <= 17.5': [{'fixedacidity <= 6.85': [{'sulphates <= 0.75': [{'volatileacidity <= 0.21000000000000002': [1.0,\n",
       "            {'sulphates <= 0.30000000000000004': [1.0,\n",
       "              {'sulphates <= 0.56': [{'residualsugar <= 7.8': [{'sulphates <= 0.395': [0.0,\n",
       "                    {'residualsugar <= 2.05': [1.0,\n",
       "                      {'sulphates <= 0.525': [0.0,\n",
       "                        {'sulphates <= 0.535': [1.0, 0.0]}]}]}]},\n",
       "                  1.0]},\n",
       "                0.0]}]}]},\n",
       "          1.0]},\n",
       "        0.0]},\n",
       "      {'chlorides <= 0.0445': [{'sulphates <= 0.835': [{'pH <= 3.375': [{'alcohol <= 12.775': [{'pH <= 3.33': [{'fixedacidity <= 5.9': [{'pH <= 3.165': [1.0,\n",
       "                    0.0]},\n",
       "                  {'citricacid <= 0.275': [1.0,\n",
       "                    {'fixedacidity <= 6.55': [0.0,\n",
       "                      {'totalsulfurdioxide <= 116.5': [{'citricacid <= 0.375': [{'totalsulfurdioxide <= 90.0': [{'pH <= 3.2': [0.0,\n",
       "                              1.0]},\n",
       "                            1.0]},\n",
       "                          0.0]},\n",
       "                        1.0]}]}]}]},\n",
       "                0.0]},\n",
       "              {'alcohol <= 12.896666665000001': [1.0,\n",
       "                {'freesulfurdioxide <= 50.5': [{'volatileacidity <= 0.615': [{'totalsulfurdioxide <= 98.0': [1.0,\n",
       "                      {'freesulfurdioxide <= 28.5': [{'pH <= 3.245': [{'fixedacidity <= 6.1': [1.0,\n",
       "                            {'alcohol <= 13.45': [0.0, 1.0]}]},\n",
       "                          1.0]},\n",
       "                        {'volatileacidity <= 0.375': [{'chlorides <= 0.0385': [{'residualsugar <= 1.5': [{'sulphates <= 0.51': [0.0,\n",
       "                                1.0]},\n",
       "                              1.0]},\n",
       "                            {'pH <= 3.3': [0.0, 1.0]}]},\n",
       "                          1.0]}]}]},\n",
       "                    0.0]},\n",
       "                  0.0]}]}]},\n",
       "            1.0]},\n",
       "          {'chlorides <= 0.04': [0.0, 1.0]}]},\n",
       "        {'pH <= 3.205': [0.0,\n",
       "          {'freesulfurdioxide <= 34.0': [1.0, 0.0]}]}]}]}]}]}"
      ]
     },
     "execution_count": 15,
     "metadata": {},
     "output_type": "execute_result"
    }
   ],
   "source": [
    "dtree_entropy= dtree_algo_entropy(train_d)\n",
    "dtree_entropy"
   ]
  },
  {
   "cell_type": "code",
   "execution_count": 16,
   "metadata": {
    "colab": {
     "base_uri": "https://localhost:8080/"
    },
    "id": "gdCKI0HPJtm2",
    "outputId": "920ddee7-5a7c-4fb5-af76-f477230245b4"
   },
   "outputs": [
    {
     "data": {
      "text/plain": [
       "0.8203164880040837"
      ]
     },
     "execution_count": 16,
     "metadata": {},
     "output_type": "execute_result"
    }
   ],
   "source": [
    "calculate_accuracy(test_d,dtree_entropy)"
   ]
  },
  {
   "cell_type": "markdown",
   "metadata": {
    "id": "jbiO_l1JOpnB"
   },
   "source": [
    "# **Qn.3b) K-Fold Cross Validation**"
   ]
  },
  {
   "cell_type": "code",
   "execution_count": 17,
   "metadata": {
    "id": "H3n2_Ii0OvQc"
   },
   "outputs": [],
   "source": [
    "def cross_validation_split(dataset, folds):\n",
    "        dataset_split = []\n",
    "        df_copy = dataset\n",
    "        fold_size = int(df_copy.shape[0] / folds)\n",
    "        \n",
    "        # for loop to save each fold\n",
    "        for i in range(folds):\n",
    "            fold = []\n",
    "            # while loop to add elements to the folds\n",
    "            while len(fold) < fold_size:\n",
    "                # select a random element\n",
    "                r = random.randrange(df_copy.shape[0])\n",
    "                # determine the index of this element \n",
    "                index = df_copy.index[r]\n",
    "                # save the randomly selected line \n",
    "                fold.append(df_copy.loc[index].values.tolist())\n",
    "                # delete the randomly selected line from\n",
    "                # dataframe not to select again\n",
    "                df_copy = df_copy.drop(index)\n",
    "            # save the fold     \n",
    "            dataset_split.append(np.asarray(fold))\n",
    "            \n",
    "        return dataset_split "
   ]
  },
  {
   "cell_type": "code",
   "execution_count": 18,
   "metadata": {
    "colab": {
     "base_uri": "https://localhost:8080/"
    },
    "id": "nSiqE384PaQj",
    "outputId": "fbc7e687-d29c-40d8-967a-c89a92f02a3b"
   },
   "outputs": [
    {
     "data": {
      "text/plain": [
       "(489, 12)"
      ]
     },
     "execution_count": 18,
     "metadata": {},
     "output_type": "execute_result"
    }
   ],
   "source": [
    "#the cross_validation_split function returns a list which contains numpy 2d arrays of each fold\n",
    "#df_algos receive the data set as dataframe(pandas). Inside the function, we are converting it to 2d array\n",
    "cvl=cross_validation_split(df,10) #To get the folds. The cross validation split function returns \n",
    "cvl[9].shape"
   ]
  },
  {
   "cell_type": "markdown",
   "metadata": {
    "id": "pAAWRHGjQbVD"
   },
   "source": [
    "The below section consists of creating training and testing data from the folds obtained. i.e For the first time, chunks 1-9 is treated as train data and 10th chunk as test data. For the second time, chunks 1,2,3,4,5,6,7,8,10 are treated as train data and chunk 9 is treated as test data. Similarly ten such training dataframe and testing data frame is created"
   ]
  },
  {
   "cell_type": "code",
   "execution_count": 19,
   "metadata": {
    "id": "kXwAmX6iQ78u"
   },
   "outputs": [],
   "source": [
    "#the folds are joined using concat function to create the train data. They are converted to pandas from numpy 2D as the input argument passed to decision tree algorithm function is a pandas data frame\n",
    "concat1= np.concatenate((cvl[0],cvl[1],cvl[2],cvl[3],cvl[4],cvl[5],cvl[6],cvl[7],cvl[8]),axis=0)\n",
    "tr_dframe1 = pd.DataFrame(concat1, columns = ['fixedacidity','volatileacidity','citricacid','residualsugar','chlorides','freesulfurdioxide','totalsulfurdioxide','density','pH','sulphates','alcohol','quality'])\n",
    "te_dframe1 = pd.DataFrame(cvl[9], columns = ['fixedacidity','volatileacidity','citricacid','residualsugar','chlorides','freesulfurdioxide','totalsulfurdioxide','density','pH','sulphates','alcohol','quality'])"
   ]
  },
  {
   "cell_type": "code",
   "execution_count": 20,
   "metadata": {
    "id": "4dGV5DpNSG8A"
   },
   "outputs": [],
   "source": [
    "concat2= np.concatenate((cvl[0],cvl[1],cvl[2],cvl[3],cvl[4],cvl[5],cvl[6],cvl[7],cvl[9]),axis=0)\n",
    "tr_dframe2 = pd.DataFrame(concat2, columns = ['fixedacidity','volatileacidity','citricacid','residualsugar','chlorides','freesulfurdioxide','totalsulfurdioxide','density','pH','sulphates','alcohol','quality'])\n",
    "te_dframe2 = pd.DataFrame(cvl[8], columns = ['fixedacidity','volatileacidity','citricacid','residualsugar','chlorides','freesulfurdioxide','totalsulfurdioxide','density','pH','sulphates','alcohol','quality'])"
   ]
  },
  {
   "cell_type": "code",
   "execution_count": 21,
   "metadata": {
    "id": "tT5XxnIaSKTY"
   },
   "outputs": [],
   "source": [
    "concat3= np.concatenate((cvl[0],cvl[1],cvl[2],cvl[3],cvl[4],cvl[5],cvl[6],cvl[8],cvl[9]),axis=0)\n",
    "tr_dframe3 = pd.DataFrame(concat3, columns = ['fixedacidity','volatileacidity','citricacid','residualsugar','chlorides','freesulfurdioxide','totalsulfurdioxide','density','pH','sulphates','alcohol','quality'])\n",
    "te_dframe3 = pd.DataFrame(cvl[7], columns = ['fixedacidity','volatileacidity','citricacid','residualsugar','chlorides','freesulfurdioxide','totalsulfurdioxide','density','pH','sulphates','alcohol','quality'])"
   ]
  },
  {
   "cell_type": "code",
   "execution_count": 22,
   "metadata": {
    "id": "CpUwiE2aSKzo"
   },
   "outputs": [],
   "source": [
    "concat4= np.concatenate((cvl[0],cvl[1],cvl[2],cvl[3],cvl[4],cvl[5],cvl[7],cvl[8],cvl[9]),axis=0)\n",
    "tr_dframe4 = pd.DataFrame(concat4, columns = ['fixedacidity','volatileacidity','citricacid','residualsugar','chlorides','freesulfurdioxide','totalsulfurdioxide','density','pH','sulphates','alcohol','quality'])\n",
    "te_dframe4 = pd.DataFrame(cvl[6], columns = ['fixedacidity','volatileacidity','citricacid','residualsugar','chlorides','freesulfurdioxide','totalsulfurdioxide','density','pH','sulphates','alcohol','quality'])"
   ]
  },
  {
   "cell_type": "code",
   "execution_count": 23,
   "metadata": {
    "id": "xVf4OnVxSQp6"
   },
   "outputs": [],
   "source": [
    "concat5= np.concatenate((cvl[0],cvl[1],cvl[2],cvl[3],cvl[4],cvl[6],cvl[7],cvl[8],cvl[9]),axis=0)\n",
    "tr_dframe5 = pd.DataFrame(concat5, columns = ['fixedacidity','volatileacidity','citricacid','residualsugar','chlorides','freesulfurdioxide','totalsulfurdioxide','density','pH','sulphates','alcohol','quality'])\n",
    "te_dframe5 = pd.DataFrame(cvl[5], columns = ['fixedacidity','volatileacidity','citricacid','residualsugar','chlorides','freesulfurdioxide','totalsulfurdioxide','density','pH','sulphates','alcohol','quality'])"
   ]
  },
  {
   "cell_type": "code",
   "execution_count": 24,
   "metadata": {
    "id": "p-sqNZDoSTKT"
   },
   "outputs": [],
   "source": [
    "concat6= np.concatenate((cvl[0],cvl[1],cvl[2],cvl[3],cvl[5],cvl[6],cvl[7],cvl[8],cvl[9]),axis=0)\n",
    "tr_dframe6 = pd.DataFrame(concat6, columns = ['fixedacidity','volatileacidity','citricacid','residualsugar','chlorides','freesulfurdioxide','totalsulfurdioxide','density','pH','sulphates','alcohol','quality'])\n",
    "te_dframe6 = pd.DataFrame(cvl[4], columns = ['fixedacidity','volatileacidity','citricacid','residualsugar','chlorides','freesulfurdioxide','totalsulfurdioxide','density','pH','sulphates','alcohol','quality'])"
   ]
  },
  {
   "cell_type": "code",
   "execution_count": 25,
   "metadata": {
    "id": "MScCXfveSWFY"
   },
   "outputs": [],
   "source": [
    "concat7= np.concatenate((cvl[0],cvl[1],cvl[2],cvl[4],cvl[5],cvl[6],cvl[7],cvl[8],cvl[9]),axis=0)\n",
    "tr_dframe7 = pd.DataFrame(concat7, columns = ['fixedacidity','volatileacidity','citricacid','residualsugar','chlorides','freesulfurdioxide','totalsulfurdioxide','density','pH','sulphates','alcohol','quality'])\n",
    "te_dframe7 = pd.DataFrame(cvl[3], columns = ['fixedacidity','volatileacidity','citricacid','residualsugar','chlorides','freesulfurdioxide','totalsulfurdioxide','density','pH','sulphates','alcohol','quality'])"
   ]
  },
  {
   "cell_type": "code",
   "execution_count": 26,
   "metadata": {
    "id": "3q7kRK2uSWfx"
   },
   "outputs": [],
   "source": [
    "concat8= np.concatenate((cvl[0],cvl[1],cvl[3],cvl[4],cvl[5],cvl[6],cvl[7],cvl[8],cvl[9]),axis=0)\n",
    "tr_dframe8 = pd.DataFrame(concat8, columns = ['fixedacidity','volatileacidity','citricacid','residualsugar','chlorides','freesulfurdioxide','totalsulfurdioxide','density','pH','sulphates','alcohol','quality'])\n",
    "te_dframe8 = pd.DataFrame(cvl[2], columns = ['fixedacidity','volatileacidity','citricacid','residualsugar','chlorides','freesulfurdioxide','totalsulfurdioxide','density','pH','sulphates','alcohol','quality'])"
   ]
  },
  {
   "cell_type": "code",
   "execution_count": 27,
   "metadata": {
    "id": "oaiLgIvlSW4N"
   },
   "outputs": [],
   "source": [
    "concat9= np.concatenate((cvl[0],cvl[2],cvl[3],cvl[4],cvl[5],cvl[6],cvl[7],cvl[8],cvl[9]),axis=0)\n",
    "tr_dframe9 = pd.DataFrame(concat9, columns = ['fixedacidity','volatileacidity','citricacid','residualsugar','chlorides','freesulfurdioxide','totalsulfurdioxide','density','pH','sulphates','alcohol','quality'])\n",
    "te_dframe9 = pd.DataFrame(cvl[1], columns = ['fixedacidity','volatileacidity','citricacid','residualsugar','chlorides','freesulfurdioxide','totalsulfurdioxide','density','pH','sulphates','alcohol','quality'])"
   ]
  },
  {
   "cell_type": "code",
   "execution_count": 28,
   "metadata": {
    "id": "ECnkKuRrShIk"
   },
   "outputs": [],
   "source": [
    "concat10= np.concatenate((cvl[1],cvl[2],cvl[3],cvl[4],cvl[5],cvl[6],cvl[7],cvl[8],cvl[9]),axis=0)\n",
    "tr_dframe10 = pd.DataFrame(concat10, columns = ['fixedacidity','volatileacidity','citricacid','residualsugar','chlorides','freesulfurdioxide','totalsulfurdioxide','density','pH','sulphates','alcohol','quality'])\n",
    "te_dframe10 = pd.DataFrame(cvl[0], columns = ['fixedacidity','volatileacidity','citricacid','residualsugar','chlorides','freesulfurdioxide','totalsulfurdioxide','density','pH','sulphates','alcohol','quality'])"
   ]
  },
  {
   "cell_type": "markdown",
   "metadata": {
    "id": "D-LW1xQFSly7"
   },
   "source": [
    "**Training the folds below: [This may take 2 minutes]**"
   ]
  },
  {
   "cell_type": "code",
   "execution_count": 29,
   "metadata": {
    "id": "i8oLMuLOSliH"
   },
   "outputs": [],
   "source": [
    "dtree_kf1= dtree_algo_entropy(tr_dframe1)\n",
    "dtree_kf2= dtree_algo_entropy(tr_dframe2)\n",
    "dtree_kf3= dtree_algo_entropy(tr_dframe3)\n",
    "dtree_kf4= dtree_algo_entropy(tr_dframe4)\n",
    "dtree_kf5= dtree_algo_entropy(tr_dframe5)\n",
    "dtree_kf6= dtree_algo_entropy(tr_dframe6)\n",
    "dtree_kf7= dtree_algo_entropy(tr_dframe7)\n",
    "dtree_kf8= dtree_algo_entropy(tr_dframe8)\n",
    "dtree_kf9= dtree_algo_entropy(tr_dframe9)\n",
    "dtree_kf10= dtree_algo_entropy(tr_dframe10)"
   ]
  },
  {
   "cell_type": "markdown",
   "metadata": {
    "id": "waLv5dBEVVRb"
   },
   "source": [
    "**Calculating the Accuracy for each tree built**"
   ]
  },
  {
   "cell_type": "code",
   "execution_count": 30,
   "metadata": {
    "colab": {
     "base_uri": "https://localhost:8080/"
    },
    "id": "7CBQ5R9_TJwL",
    "outputId": "9e569edd-26af-47b9-bb0d-aa63deb07b87"
   },
   "outputs": [
    {
     "name": "stdout",
     "output_type": "stream",
     "text": [
      "0.8813905930470347 0.820040899795501 0.8388548057259714\n"
     ]
    }
   ],
   "source": [
    "a1=calculate_accuracy(te_dframe1,dtree_kf1)\n",
    "a2=calculate_accuracy(te_dframe2,dtree_kf2)\n",
    "a3=calculate_accuracy(te_dframe3,dtree_kf3)\n",
    "a4=calculate_accuracy(te_dframe4,dtree_kf4)\n",
    "a5=calculate_accuracy(te_dframe5,dtree_kf5)\n",
    "a6=calculate_accuracy(te_dframe6,dtree_kf6)\n",
    "a7=calculate_accuracy(te_dframe7,dtree_kf7)\n",
    "a8=calculate_accuracy(te_dframe8,dtree_kf8)\n",
    "a9=calculate_accuracy(te_dframe9,dtree_kf9)\n",
    "a10=calculate_accuracy(te_dframe10,dtree_kf10)\n",
    "\n",
    "accu_list=[a1,a2,a3,a4,a5,a6,a7,a8,a9,a10]\n",
    "accu_list\n",
    "\n",
    "max_accuracy= max(accu_list)\n",
    "min_accuracy= min(accu_list)\n",
    "\n",
    "mean_accuracy= sum(accu_list)/10\n",
    "\n",
    "print(max_accuracy,min_accuracy,mean_accuracy)"
   ]
  },
  {
   "cell_type": "markdown",
   "metadata": {
    "id": "V3dZQedLqDTt"
   },
   "source": [
    "## **Improvement Strategies**"
   ]
  },
  {
   "cell_type": "markdown",
   "metadata": {
    "id": "ms4-vGQaqTV0"
   },
   "source": [
    "# Gini Index"
   ]
  },
  {
   "cell_type": "code",
   "execution_count": 31,
   "metadata": {
    "id": "ycGu5W0fqXwk"
   },
   "outputs": [],
   "source": [
    "def gini(data):\n",
    "    \n",
    "    quality_column = data[:, -1]\n",
    "    classlabels, classcounts = np.unique(quality_column, return_counts=True) #extract the counts of classes in dataset\n",
    "    \n",
    "    #numpy does element wise operations. So probabilities and entropy can be calculated as\n",
    "    probab = classcounts/ classcounts.sum()\n",
    "    gini_score = sum(probab * (1-probab))\n",
    "     \n",
    "    return gini_score"
   ]
  },
  {
   "cell_type": "code",
   "execution_count": 32,
   "metadata": {
    "id": "r4rEANAPqf-U"
   },
   "outputs": [],
   "source": [
    "def weighted_gini(ldata, rdata):\n",
    "    \n",
    "    tot_data = len(ldata) + len(rdata)\n",
    "    prob_ldata = len(ldata) / tot_data\n",
    "    prob_rdata = len(rdata) / tot_data\n",
    "\n",
    "    weigh_gini =  (prob_ldata * gini(ldata) \n",
    "                      + prob_rdata * gini(rdata))\n",
    "    \n",
    "    return weigh_gini"
   ]
  },
  {
   "cell_type": "code",
   "execution_count": 33,
   "metadata": {
    "id": "x2q8tIEpqniM"
   },
   "outputs": [],
   "source": [
    "def best_split_gini(data, potential_splits):\n",
    "    \n",
    "    arbit_gini = 100\n",
    "    for column_index in potential_splits:\n",
    "        for value in potential_splits[column_index]:\n",
    "            data_left, data_right = split_data(data, column_to_split=column_index, value_to_split=value)\n",
    "            presentweigh_gini = weighted_gini(data_left, data_right)\n",
    "\n",
    "            if presentweigh_gini <= arbit_gini:\n",
    "                arbit_gini = presentweigh_gini\n",
    "                best_split_column = column_index\n",
    "                best_split_value = value\n",
    "    \n",
    "    return best_split_column, best_split_value"
   ]
  },
  {
   "cell_type": "code",
   "execution_count": 34,
   "metadata": {
    "id": "ncP4VQwjq543"
   },
   "outputs": [],
   "source": [
    "def dtree_algo_gini(df, flag=0):\n",
    "    \n",
    "    global column_labels #To extract the column names in the form of strings and replace in the model instead of column index\n",
    "    if flag == 0: # First time the data enters as pandas dataframe and it needs to be converted to numpy 2D array for working with functions \n",
    "        column_labels = df.columns\n",
    "        data = df.values\n",
    "    else:\n",
    "        data = df           \n",
    "    \n",
    "    if Is_Pure(data): #This acts as the base case if the data contains only one class\n",
    "        classi = ClassForPureData(data) #identifies which class \n",
    "        return classi\n",
    "\n",
    "    else:     #The recursive part starts here if the data is not pure.\n",
    "        feasible_splits = splits(data)\n",
    "        split_column, split_value = best_split_gini(data, feasible_splits)\n",
    "        l_data, r_data = split_data(data, split_column, split_value)\n",
    "        flag=flag+1\n",
    "        \n",
    "        feature_name = column_labels[split_column]\n",
    "        question = \"{} <= {}\".format(feature_name, split_value)\n",
    "        sub_tree = {question: []}\n",
    "    \n",
    "        yes_answer = dtree_algo_gini(l_data, flag)\n",
    "        no_answer = dtree_algo_gini(r_data, flag)\n",
    "        \n",
    "        if yes_answer == no_answer:\n",
    "            sub_tree = yes_answer\n",
    "        else:\n",
    "            sub_tree[question].append(yes_answer)\n",
    "            sub_tree[question].append(no_answer)\n",
    "        \n",
    "        return sub_tree"
   ]
  },
  {
   "cell_type": "code",
   "execution_count": 35,
   "metadata": {
    "colab": {
     "base_uri": "https://localhost:8080/",
     "height": 203
    },
    "id": "t6oYp_mFrgty",
    "outputId": "0581c3cf-1016-4ebb-d8a9-b95c1a4ae516"
   },
   "outputs": [
    {
     "data": {
      "text/html": [
       "<div>\n",
       "<style scoped>\n",
       "    .dataframe tbody tr th:only-of-type {\n",
       "        vertical-align: middle;\n",
       "    }\n",
       "\n",
       "    .dataframe tbody tr th {\n",
       "        vertical-align: top;\n",
       "    }\n",
       "\n",
       "    .dataframe thead th {\n",
       "        text-align: right;\n",
       "    }\n",
       "</style>\n",
       "<table border=\"1\" class=\"dataframe\">\n",
       "  <thead>\n",
       "    <tr style=\"text-align: right;\">\n",
       "      <th></th>\n",
       "      <th>fixedacidity</th>\n",
       "      <th>volatileacidity</th>\n",
       "      <th>citricacid</th>\n",
       "      <th>residualsugar</th>\n",
       "      <th>chlorides</th>\n",
       "      <th>freesulfurdioxide</th>\n",
       "      <th>totalsulfurdioxide</th>\n",
       "      <th>density</th>\n",
       "      <th>pH</th>\n",
       "      <th>sulphates</th>\n",
       "      <th>alcohol</th>\n",
       "      <th>quality</th>\n",
       "    </tr>\n",
       "  </thead>\n",
       "  <tbody>\n",
       "    <tr>\n",
       "      <th>3</th>\n",
       "      <td>7.2</td>\n",
       "      <td>0.23</td>\n",
       "      <td>0.32</td>\n",
       "      <td>8.5</td>\n",
       "      <td>0.058</td>\n",
       "      <td>47.0</td>\n",
       "      <td>186.0</td>\n",
       "      <td>0.9956</td>\n",
       "      <td>3.19</td>\n",
       "      <td>0.40</td>\n",
       "      <td>9.9</td>\n",
       "      <td>0</td>\n",
       "    </tr>\n",
       "    <tr>\n",
       "      <th>5</th>\n",
       "      <td>8.1</td>\n",
       "      <td>0.28</td>\n",
       "      <td>0.40</td>\n",
       "      <td>6.9</td>\n",
       "      <td>0.050</td>\n",
       "      <td>30.0</td>\n",
       "      <td>97.0</td>\n",
       "      <td>0.9951</td>\n",
       "      <td>3.26</td>\n",
       "      <td>0.44</td>\n",
       "      <td>10.1</td>\n",
       "      <td>0</td>\n",
       "    </tr>\n",
       "    <tr>\n",
       "      <th>6</th>\n",
       "      <td>6.2</td>\n",
       "      <td>0.32</td>\n",
       "      <td>0.16</td>\n",
       "      <td>7.0</td>\n",
       "      <td>0.045</td>\n",
       "      <td>30.0</td>\n",
       "      <td>136.0</td>\n",
       "      <td>0.9949</td>\n",
       "      <td>3.18</td>\n",
       "      <td>0.47</td>\n",
       "      <td>9.6</td>\n",
       "      <td>0</td>\n",
       "    </tr>\n",
       "    <tr>\n",
       "      <th>7</th>\n",
       "      <td>7.0</td>\n",
       "      <td>0.27</td>\n",
       "      <td>0.36</td>\n",
       "      <td>20.7</td>\n",
       "      <td>0.045</td>\n",
       "      <td>45.0</td>\n",
       "      <td>170.0</td>\n",
       "      <td>1.0010</td>\n",
       "      <td>3.00</td>\n",
       "      <td>0.45</td>\n",
       "      <td>8.8</td>\n",
       "      <td>0</td>\n",
       "    </tr>\n",
       "    <tr>\n",
       "      <th>8</th>\n",
       "      <td>6.3</td>\n",
       "      <td>0.30</td>\n",
       "      <td>0.34</td>\n",
       "      <td>1.6</td>\n",
       "      <td>0.049</td>\n",
       "      <td>14.0</td>\n",
       "      <td>132.0</td>\n",
       "      <td>0.9940</td>\n",
       "      <td>3.30</td>\n",
       "      <td>0.49</td>\n",
       "      <td>9.5</td>\n",
       "      <td>0</td>\n",
       "    </tr>\n",
       "  </tbody>\n",
       "</table>\n",
       "</div>"
      ],
      "text/plain": [
       "   fixedacidity  volatileacidity  citricacid  residualsugar  chlorides  \\\n",
       "3           7.2             0.23        0.32            8.5      0.058   \n",
       "5           8.1             0.28        0.40            6.9      0.050   \n",
       "6           6.2             0.32        0.16            7.0      0.045   \n",
       "7           7.0             0.27        0.36           20.7      0.045   \n",
       "8           6.3             0.30        0.34            1.6      0.049   \n",
       "\n",
       "   freesulfurdioxide  totalsulfurdioxide  density    pH  sulphates  alcohol  \\\n",
       "3               47.0               186.0   0.9956  3.19       0.40      9.9   \n",
       "5               30.0                97.0   0.9951  3.26       0.44     10.1   \n",
       "6               30.0               136.0   0.9949  3.18       0.47      9.6   \n",
       "7               45.0               170.0   1.0010  3.00       0.45      8.8   \n",
       "8               14.0               132.0   0.9940  3.30       0.49      9.5   \n",
       "\n",
       "   quality  \n",
       "3        0  \n",
       "5        0  \n",
       "6        0  \n",
       "7        0  \n",
       "8        0  "
      ]
     },
     "execution_count": 35,
     "metadata": {},
     "output_type": "execute_result"
    }
   ],
   "source": [
    "random.seed(0)\n",
    "train_d,test_d= splitTrainandTest(df, testdatasize=0.4)\n",
    "train_d.head()"
   ]
  },
  {
   "cell_type": "code",
   "execution_count": 36,
   "metadata": {
    "colab": {
     "base_uri": "https://localhost:8080/"
    },
    "id": "zsfFPNgHsGHG",
    "outputId": "bbb030f5-9e86-4f1b-d5e2-eb2525978716"
   },
   "outputs": [
    {
     "data": {
      "text/plain": [
       "{'alcohol <= 10.850000000000001': [{'volatileacidity <= 0.2025': [{'density <= 0.99788': [{'alcohol <= 10.116666665': [{'sulphates <= 0.875': [{'fixedacidity <= 6.55': [{'chlorides <= 0.0905': [0.0,\n",
       "              {'sulphates <= 0.48': [0.0, 1.0]}]},\n",
       "            {'density <= 0.99365': [{'pH <= 3.145': [{'density <= 0.992445': [{'alcohol <= 10.05': [0.0,\n",
       "                    1.0]},\n",
       "                  0.0]},\n",
       "                {'alcohol <= 9.25': [0.0,\n",
       "                  {'pH <= 3.3449999999999998': [1.0, 0.0]}]}]},\n",
       "              {'residualsugar <= 10.25': [{'chlorides <= 0.0455': [{'alcohol <= 9.1': [1.0,\n",
       "                    {'sulphates <= 0.44': [0.0,\n",
       "                      {'freesulfurdioxide <= 27.5': [0.0,\n",
       "                        {'density <= 0.99535': [1.0, 0.0]}]}]}]},\n",
       "                  0.0]},\n",
       "                {'fixedacidity <= 6.9': [0.0,\n",
       "                  {'density <= 0.997385': [{'density <= 0.9967': [{'alcohol <= 9.75': [0.0,\n",
       "                        1.0]},\n",
       "                      1.0]},\n",
       "                    0.0]}]}]}]}]},\n",
       "          1.0]},\n",
       "        {'chlorides <= 0.0405': [{'volatileacidity <= 0.1825': [{'freesulfurdioxide <= 41.5': [{'freesulfurdioxide <= 35.0': [{'density <= 0.9934449999999999': [{'volatileacidity <= 0.175': [{'sulphates <= 0.395': [{'sulphates <= 0.355': [0.0,\n",
       "                        1.0]},\n",
       "                      0.0]},\n",
       "                    1.0]},\n",
       "                  {'pH <= 3.635': [{'pH <= 3.17': [{'alcohol <= 10.55': [0.0,\n",
       "                        1.0]},\n",
       "                      1.0]},\n",
       "                    0.0]}]},\n",
       "                0.0]},\n",
       "              {'density <= 0.99134': [0.0, 1.0]}]},\n",
       "            {'citricacid <= 0.355': [{'density <= 0.99251': [0.0,\n",
       "                {'sulphates <= 0.55': [1.0,\n",
       "                  {'sulphates <= 0.69': [0.0, 1.0]}]}]},\n",
       "              0.0]}]},\n",
       "          {'residualsugar <= 1.45': [{'citricacid <= 0.33999999999999997': [{'freesulfurdioxide <= 30.0': [{'freesulfurdioxide <= 22.0': [1.0,\n",
       "                  0.0]},\n",
       "                {'pH <= 3.6550000000000002': [1.0, 0.0]}]},\n",
       "              0.0]},\n",
       "            {'chlorides <= 0.12': [{'fixedacidity <= 5.75': [1.0,\n",
       "                {'totalsulfurdioxide <= 128.0': [{'totalsulfurdioxide <= 124.5': [{'volatileacidity <= 0.155': [{'sulphates <= 0.52': [{'pH <= 3.2350000000000003': [{'freesulfurdioxide <= 28.5': [0.0,\n",
       "                            1.0]},\n",
       "                          1.0]},\n",
       "                        0.0]},\n",
       "                      {'residualsugar <= 7.449999999999999': [0.0,\n",
       "                        {'alcohol <= 10.6': [0.0, 1.0]}]}]},\n",
       "                    {'alcohol <= 10.75': [1.0, 0.0]}]},\n",
       "                  {'fixedacidity <= 7.275': [0.0,\n",
       "                    {'alcohol <= 10.350000000000001': [1.0,\n",
       "                      {'sulphates <= 0.42500000000000004': [{'alcohol <= 10.55': [0.0,\n",
       "                          1.0]},\n",
       "                        0.0]}]}]}]}]},\n",
       "              1.0]}]}]}]},\n",
       "      {'citricacid <= 0.305': [{'alcohol <= 9.149999999999999': [{'sulphates <= 0.5900000000000001': [1.0,\n",
       "            0.0]},\n",
       "          0.0]},\n",
       "        {'density <= 0.9997': [0.0,\n",
       "          {'totalsulfurdioxide <= 154.0': [1.0,\n",
       "            {'alcohol <= 9.2': [0.0,\n",
       "              {'sulphates <= 0.45499999999999996': [0.0, 1.0]}]}]}]}]}]},\n",
       "    {'alcohol <= 10.25': [{'volatileacidity <= 0.2525': [{'alcohol <= 8.649999999999999': [{'sulphates <= 0.57': [0.0,\n",
       "            1.0]},\n",
       "          {'density <= 0.9944649999999999': [{'totalsulfurdioxide <= 139.0': [{'alcohol <= 10.149999999999999': [0.0,\n",
       "                {'freesulfurdioxide <= 31.0': [0.0, 1.0]}]},\n",
       "              {'alcohol <= 9.95': [{'alcohol <= 9.350000000000001': [{'pH <= 3.125': [1.0,\n",
       "                    0.0]},\n",
       "                  {'fixedacidity <= 7.25': [0.0, 1.0]}]},\n",
       "                {'density <= 0.9929': [0.0, 1.0]}]}]},\n",
       "            {'density <= 0.99858': [{'totalsulfurdioxide <= 191.5': [{'sulphates <= 0.73': [0.0,\n",
       "                  {'alcohol <= 9.8': [0.0, 1.0]}]},\n",
       "                {'density <= 0.99815': [{'freesulfurdioxide <= 50.5': [{'totalsulfurdioxide <= 195.0': [1.0,\n",
       "                      {'density <= 0.996': [{'alcohol <= 9.95': [1.0, 0.0]},\n",
       "                        0.0]}]},\n",
       "                    0.0]},\n",
       "                  1.0]}]},\n",
       "              {'density <= 0.99861': [{'alcohol <= 9.2': [1.0, 0.0]},\n",
       "                {'fixedacidity <= 8.6': [{'pH <= 3.285': [0.0,\n",
       "                    {'pH <= 3.295': [1.0,\n",
       "                      {'totalsulfurdioxide <= 133.75': [1.0, 0.0]}]}]},\n",
       "                  {'alcohol <= 9.25': [1.0, 0.0]}]}]}]}]}]},\n",
       "        {'chlorides <= 0.0325': [{'alcohol <= 9.350000000000001': [{'alcohol <= 9.2': [0.0,\n",
       "              1.0]},\n",
       "            {'pH <= 3.37': [0.0, {'alcohol <= 9.85': [1.0, 0.0]}]}]},\n",
       "          {'residualsugar <= 12.25': [{'pH <= 3.355': [{'fixedacidity <= 6.05': [{'alcohol <= 9.05': [{'pH <= 3.24': [0.0,\n",
       "                    {'alcohol <= 8.85': [0.0, 1.0]}]},\n",
       "                  0.0]},\n",
       "                0.0]},\n",
       "              {'density <= 0.9983': [{'citricacid <= 0.495': [{'chlorides <= 0.0375': [{'fixedacidity <= 5.85': [1.0,\n",
       "                      0.0]},\n",
       "                    0.0]},\n",
       "                  1.0]},\n",
       "                1.0]}]},\n",
       "            {'residualsugar <= 12.350000000000001': [1.0,\n",
       "              {'pH <= 3.075': [{'density <= 0.9977199999999999': [{'density <= 0.99708': [0.0,\n",
       "                    1.0]},\n",
       "                  {'volatileacidity <= 0.265': [{'totalsulfurdioxide <= 180.0': [0.0,\n",
       "                      1.0]},\n",
       "                    0.0]}]},\n",
       "                {'sulphates <= 0.8049999999999999': [0.0, 1.0]}]}]}]}]}]},\n",
       "      {'pH <= 3.285': [{'sulphates <= 0.71': [{'pH <= 2.935': [{'freesulfurdioxide <= 22.5': [0.0,\n",
       "              {'pH <= 2.915': [0.0, 1.0]}]},\n",
       "            {'freesulfurdioxide <= 60.5': [{'density <= 0.99275': [{'pH <= 3.125': [0.0,\n",
       "                  {'fixedacidity <= 7.75': [{'density <= 0.99263': [{'density <= 0.9913': [{'alcohol <= 10.7': [0.0,\n",
       "                          1.0]},\n",
       "                        {'totalsulfurdioxide <= 179.0': [{'freesulfurdioxide <= 20.5': [{'freesulfurdioxide <= 18.5': [0.0,\n",
       "                              1.0]},\n",
       "                            0.0]},\n",
       "                          {'pH <= 3.255': [0.0, 1.0]}]}]},\n",
       "                      1.0]},\n",
       "                    1.0]}]},\n",
       "                {'fixedacidity <= 9.05': [{'alcohol <= 10.350000000000001': [{'sulphates <= 0.395': [1.0,\n",
       "                      0.0]},\n",
       "                    0.0]},\n",
       "                  {'pH <= 3.16': [0.0, 1.0]}]}]},\n",
       "              {'freesulfurdioxide <= 68.0': [{'sulphates <= 0.615': [1.0,\n",
       "                  0.0]},\n",
       "                0.0]}]}]},\n",
       "          {'sulphates <= 0.875': [1.0, 0.0]}]},\n",
       "        {'citricacid <= 0.255': [{'alcohol <= 10.55': [0.0,\n",
       "            {'sulphates <= 0.47': [0.0,\n",
       "              {'sulphates <= 0.5449999999999999': [1.0, 0.0]}]}]},\n",
       "          {'freesulfurdioxide <= 29.5': [{'freesulfurdioxide <= 21.5': [{'density <= 0.9941500000000001': [{'pH <= 3.295': [0.0,\n",
       "                  {'totalsulfurdioxide <= 140.5': [1.0, 0.0]}]},\n",
       "                0.0]},\n",
       "              {'fixedacidity <= 5.65': [1.0, 0.0]}]},\n",
       "            {'sulphates <= 0.66': [{'volatileacidity <= 0.225': [{'alcohol <= 10.350000000000001': [1.0,\n",
       "                  0.0]},\n",
       "                {'volatileacidity <= 0.29500000000000004': [1.0, 0.0]}]},\n",
       "              {'chlorides <= 0.040499999999999994': [1.0, 0.0]}]}]}]}]}]}]},\n",
       "  {'alcohol <= 12.55': [{'sulphates <= 0.585': [{'chlorides <= 0.0345': [{'residualsugar <= 1.8250000000000002': [{'fixedacidity <= 5.15': [1.0,\n",
       "            {'alcohol <= 11.350000000000001': [{'sulphates <= 0.46499999999999997': [{'freesulfurdioxide <= 44.5': [{'volatileacidity <= 0.29000000000000004': [{'chlorides <= 0.025500000000000002': [0.0,\n",
       "                      1.0]},\n",
       "                    0.0]},\n",
       "                  0.0]},\n",
       "                {'citricacid <= 0.425': [{'sulphates <= 0.505': [{'alcohol <= 11.1': [1.0,\n",
       "                      0.0]},\n",
       "                    0.0]},\n",
       "                  1.0]}]},\n",
       "              {'totalsulfurdioxide <= 158.0': [{'freesulfurdioxide <= 39.5': [{'chlorides <= 0.0275': [{'residualsugar <= 1.275': [0.0,\n",
       "                      {'density <= 0.98933': [0.0,\n",
       "                        {'alcohol <= 12.05': [0.0, 1.0]}]}]},\n",
       "                    {'sulphates <= 0.325': [{'density <= 0.9907': [1.0, 0.0]},\n",
       "                      {'sulphates <= 0.475': [0.0,\n",
       "                        {'residualsugar <= 1.75': [0.0, 1.0]}]}]}]},\n",
       "                  {'sulphates <= 0.42500000000000004': [{'sulphates <= 0.33499999999999996': [0.0,\n",
       "                      1.0]},\n",
       "                    0.0]}]},\n",
       "                1.0]}]}]},\n",
       "          {'freesulfurdioxide <= 13.5': [{'alcohol <= 12.45': [0.0, 1.0]},\n",
       "            {'fixedacidity <= 8.05': [{'chlorides <= 0.0265': [{'freesulfurdioxide <= 35.5': [{'volatileacidity <= 0.33499999999999996': [{'citricacid <= 0.475': [{'sulphates <= 0.49': [0.0,\n",
       "                        {'alcohol <= 11.4': [1.0, 0.0]}]},\n",
       "                      1.0]},\n",
       "                    {'citricacid <= 0.265': [0.0, 1.0]}]},\n",
       "                  {'sulphates <= 0.35': [0.0, 1.0]}]},\n",
       "                {'density <= 0.9954000000000001': [{'fixedacidity <= 7.15': [{'chlorides <= 0.0305': [{'density <= 0.99337': [{'sulphates <= 0.41000000000000003': [{'alcohol <= 11.55': [1.0,\n",
       "                            {'alcohol <= 12.149999999999999': [{'pH <= 3.23': [0.0,\n",
       "                                {'alcohol <= 11.649999999999999': [0.0,\n",
       "                                  1.0]}]},\n",
       "                              {'totalsulfurdioxide <= 117.0': [{'alcohol <= 12.350000000000001': [1.0,\n",
       "                                  0.0]},\n",
       "                                1.0]}]}]},\n",
       "                          {'pH <= 3.5549999999999997': [1.0, 0.0]}]},\n",
       "                        0.0]},\n",
       "                      {'pH <= 3.4050000000000002': [{'density <= 0.9904550000000001': [{'sulphates <= 0.445': [1.0,\n",
       "                            0.0]},\n",
       "                          {'freesulfurdioxide <= 17.5': [1.0,\n",
       "                            {'sulphates <= 0.42': [{'alcohol <= 12.1': [0.0,\n",
       "                                {'citricacid <= 0.27': [1.0, 0.0]}]},\n",
       "                              {'density <= 0.9921599999999999': [{'freesulfurdioxide <= 28.0': [0.0,\n",
       "                                  1.0]},\n",
       "                                {'sulphates <= 0.435': [1.0, 0.0]}]}]}]}]},\n",
       "                        {'alcohol <= 11.2': [0.0, 1.0]}]}]},\n",
       "                    {'pH <= 3.115': [{'freesulfurdioxide <= 29.5': [{'alcohol <= 11.8': [1.0,\n",
       "                          0.0]},\n",
       "                        {'density <= 0.99112': [{'alcohol <= 12.350000000000001': [1.0,\n",
       "                            0.0]},\n",
       "                          0.0]}]},\n",
       "                      1.0]}]},\n",
       "                  0.0]}]},\n",
       "              {'totalsulfurdioxide <= 60.0': [1.0,\n",
       "                {'pH <= 3.105': [0.0,\n",
       "                  {'alcohol <= 11.65': [1.0, 0.0]}]}]}]}]}]},\n",
       "        {'residualsugar <= 1.375': [{'sulphates <= 0.475': [{'volatileacidity <= 0.215': [{'density <= 0.9922500000000001': [{'alcohol <= 11.5': [0.0,\n",
       "                  {'citricacid <= 0.325': [0.0,\n",
       "                    {'density <= 0.99072': [1.0, 0.0]}]}]},\n",
       "                1.0]},\n",
       "              0.0]},\n",
       "            {'sulphates <= 0.485': [{'alcohol <= 11.15': [0.0, 1.0]},\n",
       "              {'pH <= 3.33': [0.0,\n",
       "                {'pH <= 3.4400000000000004': [1.0, 0.0]}]}]}]},\n",
       "          {'freesulfurdioxide <= 21.5': [{'pH <= 3.145': [0.0,\n",
       "              {'volatileacidity <= 0.4175': [{'volatileacidity <= 0.16999999999999998': [{'alcohol <= 11.65': [1.0,\n",
       "                    0.0]},\n",
       "                  {'alcohol <= 11.149999999999999': [{'chlorides <= 0.04': [{'freesulfurdioxide <= 19.5': [1.0,\n",
       "                        0.0]},\n",
       "                      0.0]},\n",
       "                    {'volatileacidity <= 0.21000000000000002': [{'totalsulfurdioxide <= 122.0': [0.0,\n",
       "                        1.0]},\n",
       "                      0.0]}]}]},\n",
       "                1.0]}]},\n",
       "            {'alcohol <= 11.649999999999999': [{'residualsugar <= 10.125': [{'citricacid <= 0.355': [{'chlorides <= 0.0405': [{'density <= 0.99177': [{'freesulfurdioxide <= 41.0': [{'alcohol <= 11.533333335': [{'density <= 0.99072': [1.0,\n",
       "                            0.0]},\n",
       "                          1.0]},\n",
       "                        {'alcohol <= 11.4': [1.0,\n",
       "                          {'pH <= 3.24': [1.0, 0.0]}]}]},\n",
       "                      {'citricacid <= 0.33': [{'residualsugar <= 8.775': [{'sulphates <= 0.545': [0.0,\n",
       "                            {'alcohol <= 11.15': [0.0, 1.0]}]},\n",
       "                          {'residualsugar <= 9.850000000000001': [1.0, 0.0]}]},\n",
       "                        {'alcohol <= 11.3': [1.0, 0.0]}]}]},\n",
       "                    {'density <= 0.9902249999999999': [1.0,\n",
       "                      {'chlorides <= 0.07250000000000001': [{'freesulfurdioxide <= 22.5': [{'alcohol <= 11.15': [0.0,\n",
       "                            1.0]},\n",
       "                          {'density <= 0.994275': [{'citricacid <= 0.255': [{'pH <= 3.22': [{'volatileacidity <= 0.27': [1.0,\n",
       "                                  0.0]},\n",
       "                                0.0]},\n",
       "                              0.0]},\n",
       "                            {'alcohol <= 10.95': [0.0, 1.0]}]}]},\n",
       "                        1.0]}]}]},\n",
       "                  {'chlorides <= 0.0375': [0.0,\n",
       "                    {'sulphates <= 0.51': [{'freesulfurdioxide <= 30.0': [{'freesulfurdioxide <= 25.0': [{'chlorides <= 0.045': [0.0,\n",
       "                            1.0]},\n",
       "                          0.0]},\n",
       "                        {'sulphates <= 0.28500000000000003': [0.0,\n",
       "                          {'pH <= 3.3600000000000003': [1.0, 0.0]}]}]},\n",
       "                      {'chlorides <= 0.0435': [0.0,\n",
       "                        {'pH <= 3.175': [0.0,\n",
       "                          {'totalsulfurdioxide <= 181.5': [1.0,\n",
       "                            0.0]}]}]}]}]}]},\n",
       "                {'sulphates <= 0.31': [0.0, 1.0]}]},\n",
       "              {'totalsulfurdioxide <= 162.5': [{'volatileacidity <= 0.195': [1.0,\n",
       "                  {'volatileacidity <= 0.305': [{'alcohol <= 12.149999999999999': [{'freesulfurdioxide <= 42.0': [{'freesulfurdioxide <= 38.5': [{'volatileacidity <= 0.245': [{'residualsugar <= 6.0': [{'chlorides <= 0.049': [0.0,\n",
       "                                {'sulphates <= 0.53': [1.0, 0.0]}]},\n",
       "                              1.0]},\n",
       "                            1.0]},\n",
       "                          1.0]},\n",
       "                        {'totalsulfurdioxide <= 108.5': [1.0, 0.0]}]},\n",
       "                      {'sulphates <= 0.51': [0.0,\n",
       "                        {'pH <= 3.335': [0.0, 1.0]}]}]},\n",
       "                    {'sulphates <= 0.425': [{'chlorides <= 0.035500000000000004': [0.0,\n",
       "                        {'freesulfurdioxide <= 56.0': [1.0, 0.0]}]},\n",
       "                      {'freesulfurdioxide <= 33.5': [0.0,\n",
       "                        {'totalsulfurdioxide <= 140.5': [1.0,\n",
       "                          {'fixedacidity <= 7.05': [0.0, 1.0]}]}]}]}]}]},\n",
       "                0.0]}]}]}]}]},\n",
       "      {'pH <= 3.215': [{'freesulfurdioxide <= 53.0': [{'totalsulfurdioxide <= 123.5': [{'alcohol <= 12.125': [{'totalsulfurdioxide <= 99.0': [{'residualsugar <= 1.15': [{'alcohol <= 11.4': [1.0,\n",
       "                    0.0]},\n",
       "                  0.0]},\n",
       "                {'pH <= 3.0549999999999997': [0.0,\n",
       "                  {'chlorides <= 0.035': [0.0,\n",
       "                    {'volatileacidity <= 0.15000000000000002': [{'alcohol <= 11.05': [1.0,\n",
       "                        0.0]},\n",
       "                      1.0]}]}]}]},\n",
       "              {'chlorides <= 0.0295': [{'alcohol <= 12.275': [1.0, 0.0]},\n",
       "                1.0]}]},\n",
       "            {'citricacid <= 0.245': [1.0, 0.0]}]},\n",
       "          {'density <= 0.994': [{'citricacid <= 0.295': [0.0, 1.0]}, 0.0]}]},\n",
       "        {'citricacid <= 0.26': [{'volatileacidity <= 0.32499999999999996': [0.0,\n",
       "            1.0]},\n",
       "          {'chlorides <= 0.0655': [{'fixedacidity <= 5.85': [1.0,\n",
       "              {'freesulfurdioxide <= 13.5': [0.0,\n",
       "                {'fixedacidity <= 6.425000000000001': [{'totalsulfurdioxide <= 146.5': [{'pH <= 3.415': [{'pH <= 3.365': [{'freesulfurdioxide <= 25.0': [0.0,\n",
       "                          {'alcohol <= 12.350000000000001': [1.0, 0.0]}]},\n",
       "                        1.0]},\n",
       "                      0.0]},\n",
       "                    1.0]},\n",
       "                  {'residualsugar <= 1.85': [{'density <= 0.9932749999999999': [{'density <= 0.9909600000000001': [{'totalsulfurdioxide <= 89.5': [1.0,\n",
       "                          0.0]},\n",
       "                        1.0]},\n",
       "                      0.0]},\n",
       "                    {'totalsulfurdioxide <= 83.0': [{'alcohol <= 11.4': [0.0,\n",
       "                        1.0]},\n",
       "                      1.0]}]}]}]}]},\n",
       "            0.0]}]}]}]},\n",
       "    {'freesulfurdioxide <= 17.5': [{'fixedacidity <= 6.85': [{'sulphates <= 0.75': [{'volatileacidity <= 0.21000000000000002': [1.0,\n",
       "            {'sulphates <= 0.30000000000000004': [1.0,\n",
       "              {'totalsulfurdioxide <= 83.5': [{'totalsulfurdioxide <= 75.0': [{'density <= 0.9883': [1.0,\n",
       "                    {'totalsulfurdioxide <= 41.5': [{'alcohol <= 13.1': [1.0,\n",
       "                        0.0]},\n",
       "                      0.0]}]},\n",
       "                  1.0]},\n",
       "                {'freesulfurdioxide <= 16.5': [0.0, 1.0]}]}]}]},\n",
       "          1.0]},\n",
       "        0.0]},\n",
       "      {'chlorides <= 0.0445': [{'sulphates <= 0.835': [{'volatileacidity <= 0.595': [{'alcohol <= 12.775': [{'freesulfurdioxide <= 36.5': [{'freesulfurdioxide <= 31.5': [{'sulphates <= 0.365': [0.0,\n",
       "                    {'citricacid <= 0.395': [{'residualsugar <= 3.3': [1.0,\n",
       "                        {'freesulfurdioxide <= 25.0': [0.0, 1.0]}]},\n",
       "                      0.0]}]},\n",
       "                  0.0]},\n",
       "                {'chlorides <= 0.0385': [{'residualsugar <= 2.45': [{'residualsugar <= 2.1500000000000004': [{'fixedacidity <= 6.0': [0.0,\n",
       "                        1.0]},\n",
       "                      0.0]},\n",
       "                    1.0]},\n",
       "                  0.0]}]},\n",
       "              {'freesulfurdioxide <= 50.5': [{'fixedacidity <= 6.35': [{'density <= 0.9883025000000001': [{'fixedacidity <= 5.9': [1.0,\n",
       "                      {'sulphates <= 0.535': [0.0, 1.0]}]},\n",
       "                    {'freesulfurdioxide <= 40.5': [1.0,\n",
       "                      {'density <= 0.98967': [1.0, 0.0]}]}]},\n",
       "                  {'alcohol <= 12.896666665000001': [1.0,\n",
       "                    {'alcohol <= 13.25': [{'chlorides <= 0.0345': [{'sulphates <= 0.36': [1.0,\n",
       "                          {'density <= 0.989645': [0.0,\n",
       "                            {'freesulfurdioxide <= 24.0': [0.0, 1.0]}]}]},\n",
       "                        0.0]},\n",
       "                      {'pH <= 3.225': [{'freesulfurdioxide <= 44.0': [1.0,\n",
       "                          0.0]},\n",
       "                        0.0]}]}]}]},\n",
       "                0.0]}]},\n",
       "            {'pH <= 3.205': [0.0, {'sulphates <= 0.38': [0.0, 1.0]}]}]},\n",
       "          {'chlorides <= 0.04': [0.0, 1.0]}]},\n",
       "        {'residualsugar <= 3.9000000000000004': [{'pH <= 3.205': [0.0,\n",
       "            {'freesulfurdioxide <= 34.0': [1.0, 0.0]}]},\n",
       "          1.0]}]}]}]}]}"
      ]
     },
     "execution_count": 36,
     "metadata": {},
     "output_type": "execute_result"
    }
   ],
   "source": [
    "dtree_gini= dtree_algo_gini(train_d)\n",
    "dtree_gini"
   ]
  },
  {
   "cell_type": "code",
   "execution_count": 37,
   "metadata": {
    "colab": {
     "base_uri": "https://localhost:8080/"
    },
    "id": "qAHh_bmisWpL",
    "outputId": "8d1ae0a2-753b-4305-dbb7-8a2720dedb98"
   },
   "outputs": [
    {
     "data": {
      "text/plain": [
       "0.8065339458907606"
      ]
     },
     "execution_count": 37,
     "metadata": {},
     "output_type": "execute_result"
    }
   ],
   "source": [
    "calculate_accuracy(test_d,dtree_gini)"
   ]
  },
  {
   "cell_type": "markdown",
   "metadata": {
    "id": "YPmVmxAeYTmg"
   },
   "source": [
    "The accuracy of the tree using gini index is coming to lesser than tree using entropy index."
   ]
  },
  {
   "cell_type": "code",
   "execution_count": null,
   "metadata": {
    "id": "hSjAaiWrZ2Yi"
   },
   "outputs": [],
   "source": []
  }
 ],
 "metadata": {
  "colab": {
   "collapsed_sections": [],
   "name": "Dtree_test.ipynb",
   "provenance": []
  },
  "kernelspec": {
   "display_name": "Python 3",
   "language": "python",
   "name": "python3"
  },
  "language_info": {
   "codemirror_mode": {
    "name": "ipython",
    "version": 3
   },
   "file_extension": ".py",
   "mimetype": "text/x-python",
   "name": "python",
   "nbconvert_exporter": "python",
   "pygments_lexer": "ipython3",
   "version": "3.8.8"
  }
 },
 "nbformat": 4,
 "nbformat_minor": 1
}

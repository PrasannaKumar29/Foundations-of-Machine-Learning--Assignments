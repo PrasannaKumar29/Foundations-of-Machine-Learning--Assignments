{
 "cells": [
  {
   "cell_type": "code",
   "execution_count": 1,
   "id": "b9259f05",
   "metadata": {},
   "outputs": [],
   "source": [
    "import pandas as pd\n",
    "import numpy as np\n",
    "from matplotlib import pyplot as plt"
   ]
  },
  {
   "cell_type": "markdown",
   "id": "ff7f84a2",
   "metadata": {},
   "source": [
    "**DATA PREPARATION**"
   ]
  },
  {
   "cell_type": "code",
   "execution_count": 2,
   "id": "926182e9",
   "metadata": {},
   "outputs": [],
   "source": [
    "#reading the data from the website\n",
    "hd_data_train=pd.read_csv(\"http://www.amlbook.com/data/zip/features.train\",sep=' ',header=None) \n",
    "hd_data_test=pd.read_csv(\"http://www.amlbook.com/data/zip/features.test\",sep=' ',header=None)"
   ]
  },
  {
   "cell_type": "code",
   "execution_count": 4,
   "id": "084c0a7a",
   "metadata": {},
   "outputs": [],
   "source": [
    "#removing all the columns which are having NaN values\n",
    "hd_data_train.dropna(how='all', axis=1, inplace=True)\n",
    "hd_data_test.dropna(how='all', axis=1, inplace=True)"
   ]
  },
  {
   "cell_type": "code",
   "execution_count": 7,
   "id": "b0ff4e21",
   "metadata": {},
   "outputs": [],
   "source": [
    "#giving names to columns instead of numbers\n",
    "hd_data_train.columns=['digit','intensity','symmetry']\n",
    "hd_data_test.columns=['digit','intensity','symmetry']"
   ]
  },
  {
   "cell_type": "code",
   "execution_count": 8,
   "id": "c5b9bd89",
   "metadata": {},
   "outputs": [],
   "source": [
    "#re-ordering the columns so that the label(digits) are in the right most column\n",
    "hd_data_train = hd_data_train[[\"intensity\", \"symmetry\", \"digit\"]]\n",
    "hd_data_test = hd_data_test[[\"intensity\", \"symmetry\", \"digit\"]]"
   ]
  },
  {
   "cell_type": "code",
   "execution_count": 10,
   "id": "46416959",
   "metadata": {},
   "outputs": [
    {
     "data": {
      "text/html": [
       "<div>\n",
       "<style scoped>\n",
       "    .dataframe tbody tr th:only-of-type {\n",
       "        vertical-align: middle;\n",
       "    }\n",
       "\n",
       "    .dataframe tbody tr th {\n",
       "        vertical-align: top;\n",
       "    }\n",
       "\n",
       "    .dataframe thead th {\n",
       "        text-align: right;\n",
       "    }\n",
       "</style>\n",
       "<table border=\"1\" class=\"dataframe\">\n",
       "  <thead>\n",
       "    <tr style=\"text-align: right;\">\n",
       "      <th></th>\n",
       "      <th>intensity</th>\n",
       "      <th>symmetry</th>\n",
       "      <th>digit</th>\n",
       "    </tr>\n",
       "  </thead>\n",
       "  <tbody>\n",
       "    <tr>\n",
       "      <th>0</th>\n",
       "      <td>0.341092</td>\n",
       "      <td>-4.528937</td>\n",
       "      <td>6.0</td>\n",
       "    </tr>\n",
       "    <tr>\n",
       "      <th>1</th>\n",
       "      <td>0.444131</td>\n",
       "      <td>-5.496812</td>\n",
       "      <td>5.0</td>\n",
       "    </tr>\n",
       "    <tr>\n",
       "      <th>2</th>\n",
       "      <td>0.231002</td>\n",
       "      <td>-2.886750</td>\n",
       "      <td>4.0</td>\n",
       "    </tr>\n",
       "    <tr>\n",
       "      <th>3</th>\n",
       "      <td>0.200275</td>\n",
       "      <td>-3.534375</td>\n",
       "      <td>7.0</td>\n",
       "    </tr>\n",
       "    <tr>\n",
       "      <th>4</th>\n",
       "      <td>0.291936</td>\n",
       "      <td>-4.352062</td>\n",
       "      <td>3.0</td>\n",
       "    </tr>\n",
       "    <tr>\n",
       "      <th>...</th>\n",
       "      <td>...</td>\n",
       "      <td>...</td>\n",
       "      <td>...</td>\n",
       "    </tr>\n",
       "    <tr>\n",
       "      <th>7286</th>\n",
       "      <td>0.296178</td>\n",
       "      <td>-2.558250</td>\n",
       "      <td>3.0</td>\n",
       "    </tr>\n",
       "    <tr>\n",
       "      <th>7287</th>\n",
       "      <td>0.252795</td>\n",
       "      <td>-3.110500</td>\n",
       "      <td>3.0</td>\n",
       "    </tr>\n",
       "    <tr>\n",
       "      <th>7288</th>\n",
       "      <td>0.393705</td>\n",
       "      <td>-2.921187</td>\n",
       "      <td>3.0</td>\n",
       "    </tr>\n",
       "    <tr>\n",
       "      <th>7289</th>\n",
       "      <td>0.597590</td>\n",
       "      <td>-2.258062</td>\n",
       "      <td>0.0</td>\n",
       "    </tr>\n",
       "    <tr>\n",
       "      <th>7290</th>\n",
       "      <td>0.276221</td>\n",
       "      <td>-0.916250</td>\n",
       "      <td>1.0</td>\n",
       "    </tr>\n",
       "  </tbody>\n",
       "</table>\n",
       "<p>7291 rows × 3 columns</p>\n",
       "</div>"
      ],
      "text/plain": [
       "      intensity  symmetry  digit\n",
       "0      0.341092 -4.528937    6.0\n",
       "1      0.444131 -5.496812    5.0\n",
       "2      0.231002 -2.886750    4.0\n",
       "3      0.200275 -3.534375    7.0\n",
       "4      0.291936 -4.352062    3.0\n",
       "...         ...       ...    ...\n",
       "7286   0.296178 -2.558250    3.0\n",
       "7287   0.252795 -3.110500    3.0\n",
       "7288   0.393705 -2.921187    3.0\n",
       "7289   0.597590 -2.258062    0.0\n",
       "7290   0.276221 -0.916250    1.0\n",
       "\n",
       "[7291 rows x 3 columns]"
      ]
     },
     "execution_count": 10,
     "metadata": {},
     "output_type": "execute_result"
    }
   ],
   "source": [
    "hd_data_train"
   ]
  },
  {
   "cell_type": "code",
   "execution_count": 11,
   "id": "dc284e7e",
   "metadata": {},
   "outputs": [
    {
     "data": {
      "text/html": [
       "<div>\n",
       "<style scoped>\n",
       "    .dataframe tbody tr th:only-of-type {\n",
       "        vertical-align: middle;\n",
       "    }\n",
       "\n",
       "    .dataframe tbody tr th {\n",
       "        vertical-align: top;\n",
       "    }\n",
       "\n",
       "    .dataframe thead th {\n",
       "        text-align: right;\n",
       "    }\n",
       "</style>\n",
       "<table border=\"1\" class=\"dataframe\">\n",
       "  <thead>\n",
       "    <tr style=\"text-align: right;\">\n",
       "      <th></th>\n",
       "      <th>intensity</th>\n",
       "      <th>symmetry</th>\n",
       "      <th>digit</th>\n",
       "    </tr>\n",
       "  </thead>\n",
       "  <tbody>\n",
       "    <tr>\n",
       "      <th>0</th>\n",
       "      <td>0.272178</td>\n",
       "      <td>-4.847937</td>\n",
       "      <td>9.0</td>\n",
       "    </tr>\n",
       "    <tr>\n",
       "      <th>1</th>\n",
       "      <td>0.265133</td>\n",
       "      <td>-5.102000</td>\n",
       "      <td>6.0</td>\n",
       "    </tr>\n",
       "    <tr>\n",
       "      <th>2</th>\n",
       "      <td>0.335926</td>\n",
       "      <td>-2.921562</td>\n",
       "      <td>3.0</td>\n",
       "    </tr>\n",
       "    <tr>\n",
       "      <th>3</th>\n",
       "      <td>0.264850</td>\n",
       "      <td>-4.156625</td>\n",
       "      <td>6.0</td>\n",
       "    </tr>\n",
       "    <tr>\n",
       "      <th>4</th>\n",
       "      <td>0.345338</td>\n",
       "      <td>-6.718438</td>\n",
       "      <td>6.0</td>\n",
       "    </tr>\n",
       "    <tr>\n",
       "      <th>...</th>\n",
       "      <td>...</td>\n",
       "      <td>...</td>\n",
       "      <td>...</td>\n",
       "    </tr>\n",
       "    <tr>\n",
       "      <th>2002</th>\n",
       "      <td>0.237842</td>\n",
       "      <td>-4.052688</td>\n",
       "      <td>3.0</td>\n",
       "    </tr>\n",
       "    <tr>\n",
       "      <th>2003</th>\n",
       "      <td>0.265125</td>\n",
       "      <td>-3.630500</td>\n",
       "      <td>9.0</td>\n",
       "    </tr>\n",
       "    <tr>\n",
       "      <th>2004</th>\n",
       "      <td>0.308857</td>\n",
       "      <td>-5.365188</td>\n",
       "      <td>4.0</td>\n",
       "    </tr>\n",
       "    <tr>\n",
       "      <th>2005</th>\n",
       "      <td>0.509971</td>\n",
       "      <td>-2.010000</td>\n",
       "      <td>0.0</td>\n",
       "    </tr>\n",
       "    <tr>\n",
       "      <th>2006</th>\n",
       "      <td>0.188977</td>\n",
       "      <td>-0.781312</td>\n",
       "      <td>1.0</td>\n",
       "    </tr>\n",
       "  </tbody>\n",
       "</table>\n",
       "<p>2007 rows × 3 columns</p>\n",
       "</div>"
      ],
      "text/plain": [
       "      intensity  symmetry  digit\n",
       "0      0.272178 -4.847937    9.0\n",
       "1      0.265133 -5.102000    6.0\n",
       "2      0.335926 -2.921562    3.0\n",
       "3      0.264850 -4.156625    6.0\n",
       "4      0.345338 -6.718438    6.0\n",
       "...         ...       ...    ...\n",
       "2002   0.237842 -4.052688    3.0\n",
       "2003   0.265125 -3.630500    9.0\n",
       "2004   0.308857 -5.365188    4.0\n",
       "2005   0.509971 -2.010000    0.0\n",
       "2006   0.188977 -0.781312    1.0\n",
       "\n",
       "[2007 rows x 3 columns]"
      ]
     },
     "execution_count": 11,
     "metadata": {},
     "output_type": "execute_result"
    }
   ],
   "source": [
    "hd_data_test"
   ]
  },
  {
   "cell_type": "code",
   "execution_count": 13,
   "id": "b4980a07",
   "metadata": {},
   "outputs": [
    {
     "data": {
      "text/html": [
       "<div>\n",
       "<style scoped>\n",
       "    .dataframe tbody tr th:only-of-type {\n",
       "        vertical-align: middle;\n",
       "    }\n",
       "\n",
       "    .dataframe tbody tr th {\n",
       "        vertical-align: top;\n",
       "    }\n",
       "\n",
       "    .dataframe thead th {\n",
       "        text-align: right;\n",
       "    }\n",
       "</style>\n",
       "<table border=\"1\" class=\"dataframe\">\n",
       "  <thead>\n",
       "    <tr style=\"text-align: right;\">\n",
       "      <th></th>\n",
       "      <th>intensity</th>\n",
       "      <th>symmetry</th>\n",
       "      <th>digit</th>\n",
       "    </tr>\n",
       "  </thead>\n",
       "  <tbody>\n",
       "    <tr>\n",
       "      <th>7</th>\n",
       "      <td>0.123043</td>\n",
       "      <td>-0.707875</td>\n",
       "      <td>1.0</td>\n",
       "    </tr>\n",
       "    <tr>\n",
       "      <th>9</th>\n",
       "      <td>0.113859</td>\n",
       "      <td>-0.931375</td>\n",
       "      <td>1.0</td>\n",
       "    </tr>\n",
       "    <tr>\n",
       "      <th>12</th>\n",
       "      <td>0.115371</td>\n",
       "      <td>-0.386000</td>\n",
       "      <td>1.0</td>\n",
       "    </tr>\n",
       "    <tr>\n",
       "      <th>13</th>\n",
       "      <td>0.102281</td>\n",
       "      <td>-0.378812</td>\n",
       "      <td>1.0</td>\n",
       "    </tr>\n",
       "    <tr>\n",
       "      <th>19</th>\n",
       "      <td>0.142043</td>\n",
       "      <td>-1.819438</td>\n",
       "      <td>1.0</td>\n",
       "    </tr>\n",
       "    <tr>\n",
       "      <th>...</th>\n",
       "      <td>...</td>\n",
       "      <td>...</td>\n",
       "      <td>...</td>\n",
       "    </tr>\n",
       "    <tr>\n",
       "      <th>7246</th>\n",
       "      <td>0.272961</td>\n",
       "      <td>-5.079125</td>\n",
       "      <td>5.0</td>\n",
       "    </tr>\n",
       "    <tr>\n",
       "      <th>7261</th>\n",
       "      <td>0.199475</td>\n",
       "      <td>-4.211938</td>\n",
       "      <td>5.0</td>\n",
       "    </tr>\n",
       "    <tr>\n",
       "      <th>7266</th>\n",
       "      <td>0.367961</td>\n",
       "      <td>-5.660000</td>\n",
       "      <td>5.0</td>\n",
       "    </tr>\n",
       "    <tr>\n",
       "      <th>7269</th>\n",
       "      <td>0.355293</td>\n",
       "      <td>-4.682750</td>\n",
       "      <td>5.0</td>\n",
       "    </tr>\n",
       "    <tr>\n",
       "      <th>7271</th>\n",
       "      <td>0.232881</td>\n",
       "      <td>-4.423813</td>\n",
       "      <td>5.0</td>\n",
       "    </tr>\n",
       "  </tbody>\n",
       "</table>\n",
       "<p>1561 rows × 3 columns</p>\n",
       "</div>"
      ],
      "text/plain": [
       "      intensity  symmetry  digit\n",
       "7      0.123043 -0.707875    1.0\n",
       "9      0.113859 -0.931375    1.0\n",
       "12     0.115371 -0.386000    1.0\n",
       "13     0.102281 -0.378812    1.0\n",
       "19     0.142043 -1.819438    1.0\n",
       "...         ...       ...    ...\n",
       "7246   0.272961 -5.079125    5.0\n",
       "7261   0.199475 -4.211938    5.0\n",
       "7266   0.367961 -5.660000    5.0\n",
       "7269   0.355293 -4.682750    5.0\n",
       "7271   0.232881 -4.423813    5.0\n",
       "\n",
       "[1561 rows x 3 columns]"
      ]
     },
     "execution_count": 13,
     "metadata": {},
     "output_type": "execute_result"
    }
   ],
   "source": [
    "#picking up the training data samples which have labels of only digit 1 and digit 5\n",
    "df1=hd_data_train.loc[hd_data_train['digit']==1]\n",
    "df2=hd_data_train.loc[hd_data_train['digit']==5]\n",
    "trdata=df1.append(df2)\n",
    "trdata"
   ]
  },
  {
   "cell_type": "code",
   "execution_count": 14,
   "id": "b7fa6c7f",
   "metadata": {},
   "outputs": [
    {
     "data": {
      "text/html": [
       "<div>\n",
       "<style scoped>\n",
       "    .dataframe tbody tr th:only-of-type {\n",
       "        vertical-align: middle;\n",
       "    }\n",
       "\n",
       "    .dataframe tbody tr th {\n",
       "        vertical-align: top;\n",
       "    }\n",
       "\n",
       "    .dataframe thead th {\n",
       "        text-align: right;\n",
       "    }\n",
       "</style>\n",
       "<table border=\"1\" class=\"dataframe\">\n",
       "  <thead>\n",
       "    <tr style=\"text-align: right;\">\n",
       "      <th></th>\n",
       "      <th>intensity</th>\n",
       "      <th>symmetry</th>\n",
       "      <th>digit</th>\n",
       "    </tr>\n",
       "  </thead>\n",
       "  <tbody>\n",
       "    <tr>\n",
       "      <th>16</th>\n",
       "      <td>0.159934</td>\n",
       "      <td>-1.742000</td>\n",
       "      <td>1.0</td>\n",
       "    </tr>\n",
       "    <tr>\n",
       "      <th>42</th>\n",
       "      <td>0.124609</td>\n",
       "      <td>-0.474438</td>\n",
       "      <td>1.0</td>\n",
       "    </tr>\n",
       "    <tr>\n",
       "      <th>45</th>\n",
       "      <td>0.219117</td>\n",
       "      <td>-0.904500</td>\n",
       "      <td>1.0</td>\n",
       "    </tr>\n",
       "    <tr>\n",
       "      <th>52</th>\n",
       "      <td>0.244779</td>\n",
       "      <td>-2.505625</td>\n",
       "      <td>1.0</td>\n",
       "    </tr>\n",
       "    <tr>\n",
       "      <th>66</th>\n",
       "      <td>0.105563</td>\n",
       "      <td>-0.218562</td>\n",
       "      <td>1.0</td>\n",
       "    </tr>\n",
       "    <tr>\n",
       "      <th>...</th>\n",
       "      <td>...</td>\n",
       "      <td>...</td>\n",
       "      <td>...</td>\n",
       "    </tr>\n",
       "    <tr>\n",
       "      <th>1983</th>\n",
       "      <td>0.324154</td>\n",
       "      <td>-5.089062</td>\n",
       "      <td>5.0</td>\n",
       "    </tr>\n",
       "    <tr>\n",
       "      <th>1987</th>\n",
       "      <td>0.360320</td>\n",
       "      <td>-5.737500</td>\n",
       "      <td>5.0</td>\n",
       "    </tr>\n",
       "    <tr>\n",
       "      <th>1988</th>\n",
       "      <td>0.445924</td>\n",
       "      <td>-5.343562</td>\n",
       "      <td>5.0</td>\n",
       "    </tr>\n",
       "    <tr>\n",
       "      <th>1992</th>\n",
       "      <td>0.384980</td>\n",
       "      <td>-5.086000</td>\n",
       "      <td>5.0</td>\n",
       "    </tr>\n",
       "    <tr>\n",
       "      <th>1998</th>\n",
       "      <td>0.339586</td>\n",
       "      <td>-4.722875</td>\n",
       "      <td>5.0</td>\n",
       "    </tr>\n",
       "  </tbody>\n",
       "</table>\n",
       "<p>424 rows × 3 columns</p>\n",
       "</div>"
      ],
      "text/plain": [
       "      intensity  symmetry  digit\n",
       "16     0.159934 -1.742000    1.0\n",
       "42     0.124609 -0.474438    1.0\n",
       "45     0.219117 -0.904500    1.0\n",
       "52     0.244779 -2.505625    1.0\n",
       "66     0.105563 -0.218562    1.0\n",
       "...         ...       ...    ...\n",
       "1983   0.324154 -5.089062    5.0\n",
       "1987   0.360320 -5.737500    5.0\n",
       "1988   0.445924 -5.343562    5.0\n",
       "1992   0.384980 -5.086000    5.0\n",
       "1998   0.339586 -4.722875    5.0\n",
       "\n",
       "[424 rows x 3 columns]"
      ]
     },
     "execution_count": 14,
     "metadata": {},
     "output_type": "execute_result"
    }
   ],
   "source": [
    "#picking up the test data samples which have labels of only digit 1 and digit 5\n",
    "dftest1=hd_data_test.loc[hd_data_test['digit']==1]\n",
    "dftest2=hd_data_test.loc[hd_data_test['digit']==5]\n",
    "tesdata=dftest1.append(dftest2)\n",
    "tesdata"
   ]
  },
  {
   "cell_type": "code",
   "execution_count": 15,
   "id": "bc2207a8",
   "metadata": {},
   "outputs": [
    {
     "data": {
      "text/plain": [
       "<matplotlib.collections.PathCollection at 0x232a17e2c10>"
      ]
     },
     "execution_count": 15,
     "metadata": {},
     "output_type": "execute_result"
    },
    {
     "data": {
      "image/png": "[encoded data removed]",
      "text/plain": [
       "<Figure size 432x288 with 1 Axes>"
      ]
     },
     "metadata": {
      "needs_background": "light"
     },
     "output_type": "display_data"
    }
   ],
   "source": [
    "#representation of train data just to get an intuitive understanding\n",
    "plt.xlabel('intensity')\n",
    "plt.ylabel('symmetry')\n",
    "plt.scatter(df1['intensity'], df1['symmetry'],color=\"red\",marker='+')\n",
    "plt.scatter(df2['intensity'], df2['symmetry'],color=\"black\",marker='.')"
   ]
  },
  {
   "cell_type": "markdown",
   "id": "cb18bec6",
   "metadata": {},
   "source": [
    "Hence, from the above plot, we expect SVM to perform to give more accurate result as there is a clear partition"
   ]
  },
  {
   "cell_type": "markdown",
   "id": "f3105450",
   "metadata": {},
   "source": [
    "**Train data and Test data Splitting**"
   ]
  },
  {
   "cell_type": "code",
   "execution_count": 16,
   "id": "a2edcfda",
   "metadata": {},
   "outputs": [],
   "source": [
    "X_train=trdata.drop(['digit'],axis='columns') #considering all columns except the label column(i.e the digit column)\n",
    "Y_train=trdata.digit #considering the digit column as label"
   ]
  },
  {
   "cell_type": "code",
   "execution_count": 17,
   "id": "2ba86c69",
   "metadata": {},
   "outputs": [],
   "source": [
    "X_test=tesdata.drop(['digit'],axis='columns')\n",
    "Y_test=tesdata.digit"
   ]
  },
  {
   "cell_type": "markdown",
   "id": "c040cfd2",
   "metadata": {},
   "source": [
    "**Qn 4a. Linear Kernel**"
   ]
  },
  {
   "cell_type": "code",
   "execution_count": 18,
   "id": "819f065d",
   "metadata": {},
   "outputs": [
    {
     "data": {
      "text/plain": [
       "SVC(kernel='linear')"
      ]
     },
     "execution_count": 18,
     "metadata": {},
     "output_type": "execute_result"
    }
   ],
   "source": [
    "from sklearn.svm import SVC\n",
    "model=SVC(kernel='linear')\n",
    "model.fit(X_train,Y_train)"
   ]
  },
  {
   "cell_type": "code",
   "execution_count": 19,
   "id": "7938372d",
   "metadata": {},
   "outputs": [
    {
     "data": {
      "text/plain": [
       "0.9787735849056604"
      ]
     },
     "execution_count": 19,
     "metadata": {},
     "output_type": "execute_result"
    }
   ],
   "source": [
    "model.score(X_test,Y_test)"
   ]
  },
  {
   "cell_type": "code",
   "execution_count": 20,
   "id": "792468c4",
   "metadata": {},
   "outputs": [
    {
     "data": {
      "text/plain": [
       "array([[ 0.19665234, -1.8435    ],\n",
       "       [ 0.23962695, -3.3054375 ],\n",
       "       [ 0.24764258, -2.31925   ],\n",
       "       [ 0.22255859, -2.02525   ],\n",
       "       [ 0.16217188, -2.327625  ],\n",
       "       [ 0.17714062, -2.3680625 ],\n",
       "       [ 0.22025   , -3.0306875 ],\n",
       "       [ 0.19193359, -1.929375  ],\n",
       "       [ 0.18467578, -2.040125  ],\n",
       "       [ 0.18350195, -2.1923125 ],\n",
       "       [ 0.18408398, -1.84125   ],\n",
       "       [ 0.28905469, -3.669375  ],\n",
       "       [ 0.20046875, -2.5005    ],\n",
       "       [ 0.18711914, -2.3135    ],\n",
       "       [ 0.16456055, -2.7685625 ],\n",
       "       [ 0.14020508, -2.8765    ],\n",
       "       [ 0.15241797, -2.6614375 ],\n",
       "       [ 0.15593555, -3.0060625 ],\n",
       "       [ 0.15175   , -2.97025   ],\n",
       "       [ 0.10407031, -2.424125  ],\n",
       "       [ 0.14236523, -2.8335    ],\n",
       "       [ 0.16499609, -2.9005    ],\n",
       "       [ 0.17932031, -2.390125  ],\n",
       "       [ 0.18000586, -2.755125  ],\n",
       "       [ 0.13432812, -2.488     ],\n",
       "       [ 0.30482617, -3.0379375 ],\n",
       "       [ 0.50546875, -2.978125  ],\n",
       "       [ 0.06804883, -0.315     ]])"
      ]
     },
     "execution_count": 20,
     "metadata": {},
     "output_type": "execute_result"
    }
   ],
   "source": [
    "model.support_vectors_"
   ]
  },
  {
   "cell_type": "markdown",
   "id": "cd9cac9e",
   "metadata": {},
   "source": [
    "In the above array,the number of rows represent the total number of support vectors and number of columns represent the number of attributes. Hence we need to find the number of rows in order to get the number of support vectors"
   ]
  },
  {
   "cell_type": "code",
   "execution_count": 21,
   "id": "961967e3",
   "metadata": {},
   "outputs": [
    {
     "name": "stdout",
     "output_type": "stream",
     "text": [
      "No of support vectors:  28\n"
     ]
    }
   ],
   "source": [
    "sv_linear=model.support_vectors_\n",
    "print(\"No of support vectors: \",sv_linear.shape[0])"
   ]
  },
  {
   "cell_type": "markdown",
   "id": "83303e36",
   "metadata": {},
   "source": [
    "**Qn.4b-Train only using the first (50,100,200,800) points with the linear kernel.**"
   ]
  },
  {
   "cell_type": "markdown",
   "id": "e75d360e",
   "metadata": {},
   "source": [
    "First let us shuffle our training data set"
   ]
  },
  {
   "cell_type": "code",
   "execution_count": 22,
   "id": "65b6692a",
   "metadata": {},
   "outputs": [
    {
     "data": {
      "text/html": [
       "<div>\n",
       "<style scoped>\n",
       "    .dataframe tbody tr th:only-of-type {\n",
       "        vertical-align: middle;\n",
       "    }\n",
       "\n",
       "    .dataframe tbody tr th {\n",
       "        vertical-align: top;\n",
       "    }\n",
       "\n",
       "    .dataframe thead th {\n",
       "        text-align: right;\n",
       "    }\n",
       "</style>\n",
       "<table border=\"1\" class=\"dataframe\">\n",
       "  <thead>\n",
       "    <tr style=\"text-align: right;\">\n",
       "      <th></th>\n",
       "      <th>intensity</th>\n",
       "      <th>symmetry</th>\n",
       "      <th>digit</th>\n",
       "    </tr>\n",
       "  </thead>\n",
       "  <tbody>\n",
       "    <tr>\n",
       "      <th>5273</th>\n",
       "      <td>0.117906</td>\n",
       "      <td>-0.303625</td>\n",
       "      <td>1.0</td>\n",
       "    </tr>\n",
       "    <tr>\n",
       "      <th>3371</th>\n",
       "      <td>0.323719</td>\n",
       "      <td>-4.452500</td>\n",
       "      <td>5.0</td>\n",
       "    </tr>\n",
       "    <tr>\n",
       "      <th>2718</th>\n",
       "      <td>0.165342</td>\n",
       "      <td>-1.166875</td>\n",
       "      <td>1.0</td>\n",
       "    </tr>\n",
       "    <tr>\n",
       "      <th>6984</th>\n",
       "      <td>0.124479</td>\n",
       "      <td>-0.469500</td>\n",
       "      <td>1.0</td>\n",
       "    </tr>\n",
       "    <tr>\n",
       "      <th>1424</th>\n",
       "      <td>0.178096</td>\n",
       "      <td>-3.231313</td>\n",
       "      <td>5.0</td>\n",
       "    </tr>\n",
       "    <tr>\n",
       "      <th>...</th>\n",
       "      <td>...</td>\n",
       "      <td>...</td>\n",
       "      <td>...</td>\n",
       "    </tr>\n",
       "    <tr>\n",
       "      <th>6381</th>\n",
       "      <td>0.264451</td>\n",
       "      <td>-6.168188</td>\n",
       "      <td>5.0</td>\n",
       "    </tr>\n",
       "    <tr>\n",
       "      <th>3720</th>\n",
       "      <td>0.211395</td>\n",
       "      <td>-0.498375</td>\n",
       "      <td>1.0</td>\n",
       "    </tr>\n",
       "    <tr>\n",
       "      <th>1717</th>\n",
       "      <td>0.222559</td>\n",
       "      <td>-2.025250</td>\n",
       "      <td>1.0</td>\n",
       "    </tr>\n",
       "    <tr>\n",
       "      <th>4373</th>\n",
       "      <td>0.290623</td>\n",
       "      <td>-5.064063</td>\n",
       "      <td>5.0</td>\n",
       "    </tr>\n",
       "    <tr>\n",
       "      <th>7185</th>\n",
       "      <td>0.229424</td>\n",
       "      <td>-3.425187</td>\n",
       "      <td>5.0</td>\n",
       "    </tr>\n",
       "  </tbody>\n",
       "</table>\n",
       "<p>1561 rows × 3 columns</p>\n",
       "</div>"
      ],
      "text/plain": [
       "      intensity  symmetry  digit\n",
       "5273   0.117906 -0.303625    1.0\n",
       "3371   0.323719 -4.452500    5.0\n",
       "2718   0.165342 -1.166875    1.0\n",
       "6984   0.124479 -0.469500    1.0\n",
       "1424   0.178096 -3.231313    5.0\n",
       "...         ...       ...    ...\n",
       "6381   0.264451 -6.168188    5.0\n",
       "3720   0.211395 -0.498375    1.0\n",
       "1717   0.222559 -2.025250    1.0\n",
       "4373   0.290623 -5.064063    5.0\n",
       "7185   0.229424 -3.425187    5.0\n",
       "\n",
       "[1561 rows x 3 columns]"
      ]
     },
     "execution_count": 22,
     "metadata": {},
     "output_type": "execute_result"
    }
   ],
   "source": [
    "trdata=trdata.sample(frac=1)\n",
    "trdata"
   ]
  },
  {
   "cell_type": "markdown",
   "id": "f184864b",
   "metadata": {},
   "source": [
    "Picking the first 50 samples"
   ]
  },
  {
   "cell_type": "code",
   "execution_count": 23,
   "id": "d6fb631a",
   "metadata": {},
   "outputs": [
    {
     "data": {
      "text/plain": [
       "0.9764150943396226"
      ]
     },
     "execution_count": 23,
     "metadata": {},
     "output_type": "execute_result"
    }
   ],
   "source": [
    "tr50=trdata.iloc[:50]\n",
    "X_train50=tr50.drop(['digit'],axis='columns')\n",
    "Y_train50=tr50.digit\n",
    "\n",
    "model50=SVC(kernel='linear')\n",
    "model50.fit(X_train50,Y_train50)\n",
    "model50.score(X_test,Y_test)"
   ]
  },
  {
   "cell_type": "code",
   "execution_count": 24,
   "id": "2711573d",
   "metadata": {},
   "outputs": [
    {
     "name": "stdout",
     "output_type": "stream",
     "text": [
      "No of support vectors with 50 data points:  2\n"
     ]
    }
   ],
   "source": [
    "sv_linear50=model50.support_vectors_\n",
    "print(\"No of support vectors with 50 data points: \",sv_linear50.shape[0])"
   ]
  },
  {
   "cell_type": "markdown",
   "id": "cb6e0deb",
   "metadata": {},
   "source": [
    "Picking the first 100 samples"
   ]
  },
  {
   "cell_type": "code",
   "execution_count": 25,
   "id": "79da0d61",
   "metadata": {},
   "outputs": [
    {
     "data": {
      "text/plain": [
       "0.9787735849056604"
      ]
     },
     "execution_count": 25,
     "metadata": {},
     "output_type": "execute_result"
    }
   ],
   "source": [
    "tr100=trdata.iloc[:100]\n",
    "X_train100=tr100.drop(['digit'],axis='columns')\n",
    "Y_train100=tr100.digit\n",
    "\n",
    "model100=SVC(kernel='linear')\n",
    "model100.fit(X_train100,Y_train100)\n",
    "model100.score(X_test,Y_test)"
   ]
  },
  {
   "cell_type": "code",
   "execution_count": 33,
   "id": "9e0ca804",
   "metadata": {},
   "outputs": [
    {
     "name": "stdout",
     "output_type": "stream",
     "text": [
      "No of support vectors with 100 data points:  4\n"
     ]
    }
   ],
   "source": [
    "sv_linear100=model100.support_vectors_\n",
    "print(\"No of support vectors with 100 data points: \",sv_linear100.shape[0])"
   ]
  },
  {
   "cell_type": "markdown",
   "id": "05ecbd22",
   "metadata": {},
   "source": [
    "Picking the first 200 samples"
   ]
  },
  {
   "cell_type": "code",
   "execution_count": 27,
   "id": "c4257afb",
   "metadata": {},
   "outputs": [
    {
     "data": {
      "text/plain": [
       "0.9740566037735849"
      ]
     },
     "execution_count": 27,
     "metadata": {},
     "output_type": "execute_result"
    }
   ],
   "source": [
    "tr200=trdata.iloc[:200]\n",
    "X_train200=tr200.drop(['digit'],axis='columns')\n",
    "Y_train200=tr200.digit\n",
    "\n",
    "model200=SVC(kernel='linear')\n",
    "model200.fit(X_train200,Y_train200)\n",
    "model200.score(X_test,Y_test)"
   ]
  },
  {
   "cell_type": "code",
   "execution_count": 32,
   "id": "03d1eb37",
   "metadata": {},
   "outputs": [
    {
     "name": "stdout",
     "output_type": "stream",
     "text": [
      "No of support vectors with 200 data points:  6\n"
     ]
    }
   ],
   "source": [
    "sv_linear200=model200.support_vectors_\n",
    "print(\"No of support vectors with 200 data points: \",sv_linear200.shape[0])"
   ]
  },
  {
   "cell_type": "markdown",
   "id": "35482313",
   "metadata": {},
   "source": [
    "Picking the first 800 samples"
   ]
  },
  {
   "cell_type": "code",
   "execution_count": 29,
   "id": "9077ab5b",
   "metadata": {},
   "outputs": [
    {
     "data": {
      "text/plain": [
       "0.9787735849056604"
      ]
     },
     "execution_count": 29,
     "metadata": {},
     "output_type": "execute_result"
    }
   ],
   "source": [
    "tr800=trdata.iloc[:800]\n",
    "X_train800=tr800.drop(['digit'],axis='columns')\n",
    "Y_train800=tr800.digit\n",
    "\n",
    "model800=SVC(kernel='linear')\n",
    "model800.fit(X_train800,Y_train800)\n",
    "model800.score(X_test,Y_test)"
   ]
  },
  {
   "cell_type": "code",
   "execution_count": 31,
   "id": "9b13e062",
   "metadata": {},
   "outputs": [
    {
     "name": "stdout",
     "output_type": "stream",
     "text": [
      "No of support vectors with 800 data points:  16\n"
     ]
    }
   ],
   "source": [
    "sv_linear800=model800.support_vectors_\n",
    "print(\"No of support vectors with 800 data points: \",sv_linear800.shape[0])"
   ]
  },
  {
   "cell_type": "markdown",
   "id": "22e7848d",
   "metadata": {},
   "source": [
    "**Qn 4c**"
   ]
  },
  {
   "cell_type": "markdown",
   "id": "92a68730",
   "metadata": {},
   "source": [
    "Here we have to find multiple models with Q(degree of the polynomial)=2 and Q=5 for different values of C"
   ]
  },
  {
   "cell_type": "code",
   "execution_count": 34,
   "id": "a5b080a0",
   "metadata": {},
   "outputs": [
    {
     "data": {
      "text/plain": [
       "SVC(C=1, coef0=1, degree=5, gamma=1, kernel='poly')"
      ]
     },
     "execution_count": 34,
     "metadata": {},
     "output_type": "execute_result"
    }
   ],
   "source": [
    "X_train=trdata.drop(['digit'],axis='columns')\n",
    "Y_train=trdata.digit\n",
    "X_test=tesdata.drop(['digit'],axis='columns')\n",
    "Y_test=tesdata.digit\n",
    "\n",
    "svm1_q2=SVC(C=0.0001, kernel='poly',degree=2,gamma=1, coef0=1)\n",
    "svm2_q2=SVC(C=0.001, kernel='poly',degree=2,gamma=1, coef0=1)\n",
    "svm3_q2=SVC(C=0.01,kernel='poly',degree=2,gamma=1, coef0=1)\n",
    "svm4_q2=SVC(C=1,kernel='poly',degree=2,gamma=1, coef0=1)\n",
    "\n",
    "svm1_q5=SVC(C=0.0001, kernel='poly',degree=5,gamma=1, coef0=1)\n",
    "svm2_q5=SVC(C=0.001, kernel='poly',degree=5,gamma=1, coef0=1)\n",
    "svm3_q5=SVC(C=0.01,kernel='poly',degree=5,gamma=1, coef0=1)\n",
    "svm4_q5=SVC(C=1,kernel='poly',degree=5,gamma=1, coef0=1)\n",
    "\n",
    "#fitting the model for Q=2\n",
    "svm1_q2.fit(X_train,Y_train)\n",
    "svm2_q2.fit(X_train,Y_train)\n",
    "svm3_q2.fit(X_train,Y_train)\n",
    "svm4_q2.fit(X_train,Y_train)\n",
    "\n",
    "#fitting the model for Q=5\n",
    "svm1_q5.fit(X_train,Y_train)\n",
    "svm2_q5.fit(X_train,Y_train)\n",
    "svm3_q5.fit(X_train,Y_train)\n",
    "svm4_q5.fit(X_train,Y_train)"
   ]
  },
  {
   "cell_type": "markdown",
   "id": "55daf458",
   "metadata": {},
   "source": [
    "4C(i): Comparison of training error when C=0.0001"
   ]
  },
  {
   "cell_type": "code",
   "execution_count": 36,
   "id": "b8b0789d",
   "metadata": {},
   "outputs": [
    {
     "name": "stdout",
     "output_type": "stream",
     "text": [
      "Training error for Q=2 when C=0.0001:  0.008968609865470878\n",
      "Training error for Q=5 when C=0.0001:  0.004484304932735439\n",
      "False\n"
     ]
    }
   ],
   "source": [
    "print('Training error for Q=2 when C=0.0001: ', (1-svm1_q2.score(X_train,Y_train)))\n",
    "print('Training error for Q=5 when C=0.0001: ', (1-svm1_q5.score(X_train,Y_train)))\n",
    "print((1-svm1_q5.score(X_train,Y_train))>(1-svm1_q2.score(X_train,Y_train))) ##Is training error higher when Q=5?"
   ]
  },
  {
   "cell_type": "markdown",
   "id": "6f1cd2c3",
   "metadata": {},
   "source": [
    "4C(ii):Comparison of No of support vectors when C=0.001 "
   ]
  },
  {
   "cell_type": "code",
   "execution_count": 39,
   "id": "e0ced555",
   "metadata": {},
   "outputs": [
    {
     "name": "stdout",
     "output_type": "stream",
     "text": [
      "No of support vectors when Q=2 and Q=5 are 76 and 25 respectively\n"
     ]
    }
   ],
   "source": [
    "n_svq2=svm2_q2.support_vectors_\n",
    "n_svq5=svm2_q5.support_vectors_\n",
    "print('No of support vectors when Q=2 and Q=5 are',n_svq2.shape[0],'and',n_svq5.shape[0],'respectively')"
   ]
  },
  {
   "cell_type": "markdown",
   "id": "41b9f789",
   "metadata": {},
   "source": [
    "4C(iii): Comparison of training error when C=0.01"
   ]
  },
  {
   "cell_type": "code",
   "execution_count": 40,
   "id": "a34fde6f",
   "metadata": {},
   "outputs": [
    {
     "name": "stdout",
     "output_type": "stream",
     "text": [
      "Training error for Q=2 when C=0.01:  0.004484304932735439\n",
      "Training error for Q=5 when C=0.01:  0.0038436899423446302\n",
      "False\n"
     ]
    }
   ],
   "source": [
    "print('Training error for Q=2 when C=0.01: ', (1-svm3_q2.score(X_train,Y_train)))\n",
    "print('Training error for Q=5 when C=0.01: ', (1-svm3_q5.score(X_train,Y_train)))\n",
    "print((1-svm3_q5.score(X_train,Y_train))>(1-svm3_q2.score(X_train,Y_train))) ##Is training error higher when Q=5?"
   ]
  },
  {
   "cell_type": "markdown",
   "id": "e2876030",
   "metadata": {},
   "source": [
    "4C(iv): Comparison of test error when C=1"
   ]
  },
  {
   "cell_type": "code",
   "execution_count": 41,
   "id": "0ed0084d",
   "metadata": {},
   "outputs": [
    {
     "name": "stdout",
     "output_type": "stream",
     "text": [
      "Test error for Q=2 when C=1:  0.018867924528301883\n",
      "Test error for Q=5 when C=1:  0.021226415094339646\n",
      "False\n"
     ]
    }
   ],
   "source": [
    "print('Test error for Q=2 when C=1: ', (1-svm4_q2.score(X_test,Y_test)))\n",
    "print('Test error for Q=5 when C=1: ', (1-svm4_q5.score(X_test,Y_test)))\n",
    "print((1-svm4_q5.score(X_test,Y_test))<(1-svm4_q2.score(X_test,Y_test))) ##Is test error lower when Q=5? "
   ]
  },
  {
   "cell_type": "markdown",
   "id": "0db3cca3",
   "metadata": {},
   "source": [
    "**Qn 4d: RBF kernel with different values of C and gamma=1**"
   ]
  },
  {
   "cell_type": "code",
   "execution_count": 42,
   "id": "4ac5738b",
   "metadata": {},
   "outputs": [],
   "source": [
    "svm1_rbf=SVC(C=0.01, kernel='rbf',gamma=1)\n",
    "svm2_rbf=SVC(C=1, kernel='rbf',gamma=1)\n",
    "svm3_rbf=SVC(C=100,kernel='rbf',gamma=1)\n",
    "svm4_rbf=SVC(C=10000,kernel='rbf',gamma=1) #C=10^4\n",
    "svm5_rbf=SVC(C=1000000,kernel='rbf',gamma=1) #C=10^6\n",
    "\n",
    "#Model building\n",
    "svm1_rbf.fit(X_train,Y_train)\n",
    "svm2_rbf.fit(X_train,Y_train)\n",
    "svm3_rbf.fit(X_train,Y_train)\n",
    "svm4_rbf.fit(X_train,Y_train)\n",
    "svm5_rbf.fit(X_train,Y_train)\n",
    "\n",
    "#training errors\n",
    "p=svm1_rbf.score(X_train,Y_train)\n",
    "q=svm2_rbf.score(X_train,Y_train)\n",
    "r=svm3_rbf.score(X_train,Y_train)\n",
    "s=svm4_rbf.score(X_train,Y_train)\n",
    "t=svm5_rbf.score(X_train,Y_train)\n",
    "\n",
    "train_acc=[p,q,r,s,t]\n",
    "\n",
    "#testing errors\n",
    "u=svm1_rbf.score(X_test,Y_test)\n",
    "v=svm2_rbf.score(X_test,Y_test)\n",
    "x=svm3_rbf.score(X_test,Y_test)\n",
    "y=svm4_rbf.score(X_test,Y_test)\n",
    "z=svm5_rbf.score(X_test,Y_test)\n",
    "\n",
    "test_acc=[u,v,x,y,z]"
   ]
  },
  {
   "cell_type": "code",
   "execution_count": 44,
   "id": "ac1bcb17",
   "metadata": {},
   "outputs": [
    {
     "data": {
      "text/plain": [
       "[0.0038436899423446302,\n",
       " 0.004484304932735439,\n",
       " 0.0032030749519538215,\n",
       " 0.002562459961563124,\n",
       " 0.0006406149903908087]"
      ]
     },
     "execution_count": 44,
     "metadata": {},
     "output_type": "execute_result"
    }
   ],
   "source": [
    "train_err=[1-p,1-q,1-r,1-s,1-t]\n",
    "train_err #training error for all values of C"
   ]
  },
  {
   "cell_type": "code",
   "execution_count": 45,
   "id": "38f63216",
   "metadata": {},
   "outputs": [
    {
     "data": {
      "text/plain": [
       "[0.02358490566037741,\n",
       " 0.021226415094339646,\n",
       " 0.018867924528301883,\n",
       " 0.02358490566037741,\n",
       " 0.02358490566037741]"
      ]
     },
     "execution_count": 45,
     "metadata": {},
     "output_type": "execute_result"
    }
   ],
   "source": [
    "test_err=[1-u,1-v,1-x,1-y,1-z]\n",
    "test_err #test error for all values of C"
   ]
  },
  {
   "cell_type": "code",
   "execution_count": 50,
   "id": "34eedce4",
   "metadata": {},
   "outputs": [
    {
     "data": {
      "text/plain": [
       "0.0006406149903908087"
      ]
     },
     "execution_count": 50,
     "metadata": {},
     "output_type": "execute_result"
    }
   ],
   "source": [
    "min_tr=min(train_err)\n",
    "min_tr"
   ]
  },
  {
   "cell_type": "code",
   "execution_count": 51,
   "id": "28362c3b",
   "metadata": {},
   "outputs": [
    {
     "data": {
      "text/plain": [
       "0.018867924528301883"
      ]
     },
     "execution_count": 51,
     "metadata": {},
     "output_type": "execute_result"
    }
   ],
   "source": [
    "min_test=min(test_err)\n",
    "min_test"
   ]
  },
  {
   "cell_type": "code",
   "execution_count": 52,
   "id": "d421ed48",
   "metadata": {},
   "outputs": [
    {
     "name": "stdout",
     "output_type": "stream",
     "text": [
      "Lowest value of training error is 0.0006406149903908087 which is when C=10^6\n",
      "Lowest value of test error is 0.018867924528301883 which is when C=100\n"
     ]
    }
   ],
   "source": [
    "print('Lowest value of training error is',min_tr,'which is when C=10^6')\n",
    "print('Lowest value of test error is',min_test,'which is when C=100')"
   ]
  },
  {
   "cell_type": "markdown",
   "id": "023db8e4",
   "metadata": {},
   "source": []
  }
 ],
 "metadata": {
  "kernelspec": {
   "display_name": "Python 3",
   "language": "python",
   "name": "python3"
  },
  "language_info": {
   "codemirror_mode": {
    "name": "ipython",
    "version": 3
   },
   "file_extension": ".py",
   "mimetype": "text/x-python",
   "name": "python",
   "nbconvert_exporter": "python",
   "pygments_lexer": "ipython3",
   "version": "3.8.8"
  }
 },
 "nbformat": 4,
 "nbformat_minor": 5
}

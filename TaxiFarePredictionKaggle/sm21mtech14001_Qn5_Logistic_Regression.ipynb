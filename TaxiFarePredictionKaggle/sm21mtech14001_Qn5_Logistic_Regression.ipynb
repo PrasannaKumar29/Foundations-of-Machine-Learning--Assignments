{
 "cells": [
  {
   "cell_type": "code",
   "execution_count": 149,
   "id": "2f1a0082",
   "metadata": {},
   "outputs": [],
   "source": [
    "import numpy as np\n",
    "import pandas as pd\n",
    "from matplotlib import pyplot as plt"
   ]
  },
  {
   "cell_type": "code",
   "execution_count": 150,
   "id": "53d5e7f4",
   "metadata": {},
   "outputs": [
    {
     "data": {
      "text/html": [
       "<div>\n",
       "<style scoped>\n",
       "    .dataframe tbody tr th:only-of-type {\n",
       "        vertical-align: middle;\n",
       "    }\n",
       "\n",
       "    .dataframe tbody tr th {\n",
       "        vertical-align: top;\n",
       "    }\n",
       "\n",
       "    .dataframe thead th {\n",
       "        text-align: right;\n",
       "    }\n",
       "</style>\n",
       "<table border=\"1\" class=\"dataframe\">\n",
       "  <thead>\n",
       "    <tr style=\"text-align: right;\">\n",
       "      <th></th>\n",
       "      <th>x1</th>\n",
       "      <th>x2</th>\n",
       "      <th>y</th>\n",
       "    </tr>\n",
       "  </thead>\n",
       "  <tbody>\n",
       "    <tr>\n",
       "      <th>0</th>\n",
       "      <td>0.346</td>\n",
       "      <td>0.780</td>\n",
       "      <td>0</td>\n",
       "    </tr>\n",
       "    <tr>\n",
       "      <th>1</th>\n",
       "      <td>0.303</td>\n",
       "      <td>0.439</td>\n",
       "      <td>0</td>\n",
       "    </tr>\n",
       "    <tr>\n",
       "      <th>2</th>\n",
       "      <td>0.358</td>\n",
       "      <td>0.729</td>\n",
       "      <td>0</td>\n",
       "    </tr>\n",
       "    <tr>\n",
       "      <th>3</th>\n",
       "      <td>0.602</td>\n",
       "      <td>0.863</td>\n",
       "      <td>1</td>\n",
       "    </tr>\n",
       "    <tr>\n",
       "      <th>4</th>\n",
       "      <td>0.790</td>\n",
       "      <td>0.753</td>\n",
       "      <td>1</td>\n",
       "    </tr>\n",
       "    <tr>\n",
       "      <th>5</th>\n",
       "      <td>0.611</td>\n",
       "      <td>0.965</td>\n",
       "      <td>1</td>\n",
       "    </tr>\n",
       "  </tbody>\n",
       "</table>\n",
       "</div>"
      ],
      "text/plain": [
       "      x1     x2  y\n",
       "0  0.346  0.780  0\n",
       "1  0.303  0.439  0\n",
       "2  0.358  0.729  0\n",
       "3  0.602  0.863  1\n",
       "4  0.790  0.753  1\n",
       "5  0.611  0.965  1"
      ]
     },
     "execution_count": 150,
     "metadata": {},
     "output_type": "execute_result"
    }
   ],
   "source": [
    "data1= {'x1':[0.346,0.303,0.358,0.602,0.790,0.611],'x2':[0.780,0.439,0.729,0.863,0.753,0.965],'y':[0,0,0,1,1,1]}\n",
    "train_df=pd.DataFrame(data1)\n",
    "train_df"
   ]
  },
  {
   "cell_type": "code",
   "execution_count": 151,
   "id": "f810d166",
   "metadata": {},
   "outputs": [
    {
     "data": {
      "text/html": [
       "<div>\n",
       "<style scoped>\n",
       "    .dataframe tbody tr th:only-of-type {\n",
       "        vertical-align: middle;\n",
       "    }\n",
       "\n",
       "    .dataframe tbody tr th {\n",
       "        vertical-align: top;\n",
       "    }\n",
       "\n",
       "    .dataframe thead th {\n",
       "        text-align: right;\n",
       "    }\n",
       "</style>\n",
       "<table border=\"1\" class=\"dataframe\">\n",
       "  <thead>\n",
       "    <tr style=\"text-align: right;\">\n",
       "      <th></th>\n",
       "      <th>x1</th>\n",
       "      <th>x2</th>\n",
       "      <th>y</th>\n",
       "    </tr>\n",
       "  </thead>\n",
       "  <tbody>\n",
       "    <tr>\n",
       "      <th>0</th>\n",
       "      <td>0.959</td>\n",
       "      <td>0.382</td>\n",
       "      <td>0</td>\n",
       "    </tr>\n",
       "    <tr>\n",
       "      <th>1</th>\n",
       "      <td>0.750</td>\n",
       "      <td>0.306</td>\n",
       "      <td>0</td>\n",
       "    </tr>\n",
       "    <tr>\n",
       "      <th>2</th>\n",
       "      <td>0.395</td>\n",
       "      <td>0.760</td>\n",
       "      <td>0</td>\n",
       "    </tr>\n",
       "    <tr>\n",
       "      <th>3</th>\n",
       "      <td>0.823</td>\n",
       "      <td>0.764</td>\n",
       "      <td>1</td>\n",
       "    </tr>\n",
       "    <tr>\n",
       "      <th>4</th>\n",
       "      <td>0.761</td>\n",
       "      <td>0.874</td>\n",
       "      <td>1</td>\n",
       "    </tr>\n",
       "    <tr>\n",
       "      <th>5</th>\n",
       "      <td>0.844</td>\n",
       "      <td>0.435</td>\n",
       "      <td>1</td>\n",
       "    </tr>\n",
       "  </tbody>\n",
       "</table>\n",
       "</div>"
      ],
      "text/plain": [
       "      x1     x2  y\n",
       "0  0.959  0.382  0\n",
       "1  0.750  0.306  0\n",
       "2  0.395  0.760  0\n",
       "3  0.823  0.764  1\n",
       "4  0.761  0.874  1\n",
       "5  0.844  0.435  1"
      ]
     },
     "execution_count": 151,
     "metadata": {},
     "output_type": "execute_result"
    }
   ],
   "source": [
    "data2= {'x1':[0.959,0.750,0.395,0.823,0.761,0.844],'x2':[0.382,0.306,0.760,0.764,0.874,0.435],'y':[0,0,0,1,1,1]}\n",
    "test_df=pd.DataFrame(data2)\n",
    "test_df"
   ]
  },
  {
   "cell_type": "markdown",
   "id": "881328ed",
   "metadata": {},
   "source": [
    "### Visualizing training dataframe and testing dataframe"
   ]
  },
  {
   "cell_type": "markdown",
   "id": "faf2f128",
   "metadata": {},
   "source": [
    "Training data:"
   ]
  },
  {
   "cell_type": "code",
   "execution_count": 152,
   "id": "2c059b5d",
   "metadata": {},
   "outputs": [
    {
     "data": {
      "text/plain": [
       "<matplotlib.collections.PathCollection at 0x1ff024c8be0>"
      ]
     },
     "execution_count": 152,
     "metadata": {},
     "output_type": "execute_result"
    },
    {
     "data": {
      "image/png": "[encoded data removed]",
      "text/plain": [
       "<Figure size 432x288 with 1 Axes>"
      ]
     },
     "metadata": {
      "needs_background": "light"
     },
     "output_type": "display_data"
    }
   ],
   "source": [
    "from matplotlib import pyplot as plt\n",
    "df1=train_df.loc[train_df['y']==0]\n",
    "df2=train_df.loc[train_df['y']==1]\n",
    "plt.xlabel('x1')\n",
    "plt.ylabel('x2')\n",
    "plt.title('Training Data')\n",
    "plt.scatter(df1['x1'], df1['x2'],color=\"red\",marker='+')\n",
    "plt.scatter(df2['x1'], df2['x2'],color=\"black\",marker='.')"
   ]
  },
  {
   "cell_type": "markdown",
   "id": "2690bedc",
   "metadata": {},
   "source": [
    "Intuitively, a line can easily fit in between the two classes and hence the training error is expected to be zero"
   ]
  },
  {
   "cell_type": "markdown",
   "id": "f2a67b3a",
   "metadata": {},
   "source": [
    "Testing Data"
   ]
  },
  {
   "cell_type": "code",
   "execution_count": 153,
   "id": "8f61f35d",
   "metadata": {},
   "outputs": [
    {
     "data": {
      "text/plain": [
       "<matplotlib.collections.PathCollection at 0x1ff0250c280>"
      ]
     },
     "execution_count": 153,
     "metadata": {},
     "output_type": "execute_result"
    },
    {
     "data": {
      "image/png": "[encoded data removed]",
      "text/plain": [
       "<Figure size 432x288 with 1 Axes>"
      ]
     },
     "metadata": {
      "needs_background": "light"
     },
     "output_type": "display_data"
    }
   ],
   "source": [
    "df11=test_df.loc[test_df['y']==0]\n",
    "df22=test_df.loc[test_df['y']==1]\n",
    "plt.xlabel('x1')\n",
    "plt.ylabel('x2')\n",
    "plt.title('Testing Data')\n",
    "plt.scatter(df11['x1'], df11['x2'],color=\"red\",marker='+')\n",
    "plt.scatter(df22['x1'], df22['x2'],color=\"black\",marker='.')"
   ]
  },
  {
   "cell_type": "code",
   "execution_count": 154,
   "id": "e6f88b66",
   "metadata": {},
   "outputs": [
    {
     "data": {
      "text/plain": [
       "array([0, 0, 0, 1, 1, 1], dtype=int64)"
      ]
     },
     "execution_count": 154,
     "metadata": {},
     "output_type": "execute_result"
    }
   ],
   "source": [
    "y_train=train_df['y']\n",
    "y_train=y_train.values\n",
    "y_train"
   ]
  },
  {
   "cell_type": "code",
   "execution_count": 155,
   "id": "52d7c7ca",
   "metadata": {},
   "outputs": [
    {
     "data": {
      "text/plain": [
       "array([[0.346, 0.78 ],\n",
       "       [0.303, 0.439],\n",
       "       [0.358, 0.729],\n",
       "       [0.602, 0.863],\n",
       "       [0.79 , 0.753],\n",
       "       [0.611, 0.965]])"
      ]
     },
     "execution_count": 155,
     "metadata": {},
     "output_type": "execute_result"
    }
   ],
   "source": [
    "X_train=train_df.drop(columns=['y'])\n",
    "X_train=X_train.to_numpy()\n",
    "X_train"
   ]
  },
  {
   "cell_type": "code",
   "execution_count": 156,
   "id": "82a8e6a1",
   "metadata": {},
   "outputs": [],
   "source": [
    "y_test=test_df['y']\n",
    "y_test=y_test.values\n",
    "X_test=test_df.drop(columns=['y'])\n",
    "X_test=X_test.to_numpy()"
   ]
  },
  {
   "cell_type": "code",
   "execution_count": 157,
   "id": "264130d3",
   "metadata": {},
   "outputs": [],
   "source": [
    "X_train = X_train.T"
   ]
  },
  {
   "cell_type": "code",
   "execution_count": 158,
   "id": "ae08e479",
   "metadata": {},
   "outputs": [
    {
     "data": {
      "text/plain": [
       "(2, 6)"
      ]
     },
     "execution_count": 158,
     "metadata": {},
     "output_type": "execute_result"
    }
   ],
   "source": [
    "X_train.shape"
   ]
  },
  {
   "cell_type": "code",
   "execution_count": 159,
   "id": "4771a803",
   "metadata": {},
   "outputs": [],
   "source": [
    "y_train = y_train.reshape(1, X_train.shape[1])"
   ]
  },
  {
   "cell_type": "code",
   "execution_count": 160,
   "id": "a3761da3",
   "metadata": {},
   "outputs": [
    {
     "data": {
      "text/plain": [
       "(1, 6)"
      ]
     },
     "execution_count": 160,
     "metadata": {},
     "output_type": "execute_result"
    }
   ],
   "source": [
    "y_train.shape"
   ]
  },
  {
   "cell_type": "code",
   "execution_count": 161,
   "id": "344ba080",
   "metadata": {},
   "outputs": [
    {
     "data": {
      "text/plain": [
       "(2, 6)"
      ]
     },
     "execution_count": 161,
     "metadata": {},
     "output_type": "execute_result"
    }
   ],
   "source": [
    "X_test = X_test.T\n",
    "X_test.shape"
   ]
  },
  {
   "cell_type": "code",
   "execution_count": 162,
   "id": "c3de2b93",
   "metadata": {},
   "outputs": [
    {
     "data": {
      "text/plain": [
       "(1, 6)"
      ]
     },
     "execution_count": 162,
     "metadata": {},
     "output_type": "execute_result"
    }
   ],
   "source": [
    "y_test = y_test.reshape(1, X_test.shape[1])\n",
    "y_test.shape"
   ]
  },
  {
   "cell_type": "code",
   "execution_count": 163,
   "id": "ecf01df8",
   "metadata": {
    "scrolled": true
   },
   "outputs": [
    {
     "name": "stdout",
     "output_type": "stream",
     "text": [
      "Shape of X_train :  (2, 6)\n",
      "Shape of Y_train :  (1, 6)\n",
      "Shape of X_test :  (2, 6)\n",
      "Shape of Y_test :  (1, 6)\n"
     ]
    }
   ],
   "source": [
    "print(\"Shape of X_train : \", X_train.shape)\n",
    "print(\"Shape of Y_train : \", y_train.shape)\n",
    "print(\"Shape of X_test : \", X_test.shape)\n",
    "print(\"Shape of Y_test : \", y_test.shape)"
   ]
  },
  {
   "cell_type": "markdown",
   "id": "f52635db",
   "metadata": {},
   "source": [
    "### Model Building"
   ]
  },
  {
   "cell_type": "code",
   "execution_count": 164,
   "id": "9d2a3816",
   "metadata": {},
   "outputs": [],
   "source": [
    "def sigmoid(x):\n",
    "    return 1/(1 + np.exp(-x))"
   ]
  },
  {
   "cell_type": "code",
   "execution_count": 165,
   "id": "73ee11d2",
   "metadata": {},
   "outputs": [],
   "source": [
    "def LogisticReg(X_train, Y_train, lr, n_iter):\n",
    "    \n",
    "    m = X_train.shape[1]\n",
    "    n = X_train.shape[0]\n",
    "    lamda=0.01 #reguralizer\n",
    "    \n",
    "    W = np.zeros((n,1))\n",
    "    b = 0\n",
    "    \n",
    "    cost_list = []\n",
    "    \n",
    "    for i in range(n_iter):\n",
    "        \n",
    "        Z = np.dot(W.T, X_train) + b\n",
    "        pred = sigmoid(Z)\n",
    "        \n",
    "        # cost function\n",
    "        cost = -(1/m)*np.sum( Y_train*np.log(pred) + (1-Y_train)*np.log(1-pred))\n",
    "        \n",
    "        # Gradient Descent\n",
    "        dW = (1/m)*np.dot(pred-Y_train, X_train.T)\n",
    "        db = (1/m)*np.sum(pred - Y_train)\n",
    "        \n",
    "        W = W - lr*dW.T-(lamda*W)\n",
    "        b = b - lr*db\n",
    "        \n",
    "        # Keeping track of our cost function value\n",
    "        cost_list.append(cost)\n",
    "        \n",
    "        if(i%(n_iter/10) == 0):\n",
    "            print(\"cost after \", i, \"iteration is : \", cost)\n",
    "        \n",
    "    return W, b, cost_list"
   ]
  },
  {
   "cell_type": "code",
   "execution_count": 166,
   "id": "7d16fa90",
   "metadata": {},
   "outputs": [
    {
     "name": "stdout",
     "output_type": "stream",
     "text": [
      "cost after  0 iteration is :  0.6931471805599452\n",
      "cost after  1000 iteration is :  0.6106527723513464\n",
      "cost after  2000 iteration is :  0.6104044597466715\n",
      "cost after  3000 iteration is :  0.6104033366554189\n",
      "cost after  4000 iteration is :  0.61040333156405\n",
      "cost after  5000 iteration is :  0.6104033315409688\n",
      "cost after  6000 iteration is :  0.6104033315408646\n",
      "cost after  7000 iteration is :  0.6104033315408646\n",
      "cost after  8000 iteration is :  0.6104033315408646\n",
      "cost after  9000 iteration is :  0.6104033315408646\n"
     ]
    }
   ],
   "source": [
    "iterations = 10000\n",
    "learning_rate = 0.1\n",
    "W, b, cost_list = LogisticReg(X_train, y_train, lr = learning_rate, n_iter = iterations)"
   ]
  },
  {
   "cell_type": "code",
   "execution_count": 167,
   "id": "1c79ece3",
   "metadata": {},
   "outputs": [
    {
     "data": {
      "image/png": "[encoded data removed]",
      "text/plain": [
       "<Figure size 432x288 with 1 Axes>"
      ]
     },
     "metadata": {
      "needs_background": "light"
     },
     "output_type": "display_data"
    }
   ],
   "source": [
    "plt.plot(np.arange(iterations), cost_list)\n",
    "plt.show()"
   ]
  },
  {
   "cell_type": "code",
   "execution_count": 168,
   "id": "bc177ca2",
   "metadata": {},
   "outputs": [],
   "source": [
    "def accuracy(X, Y, W, B):\n",
    "    \n",
    "    Z = np.dot(W.T, X) + B\n",
    "    pred = sigmoid(Z)\n",
    "    \n",
    "    pred = pred > 0.5 #This returns bool\n",
    "    \n",
    "    pred = np.array(pred, dtype = 'int64')\n",
    "    \n",
    "    acc = (1 - np.sum(np.absolute(pred - Y))/Y.shape[1])*100\n",
    "    \n",
    "    return acc"
   ]
  },
  {
   "cell_type": "code",
   "execution_count": 169,
   "id": "ee4c4312",
   "metadata": {},
   "outputs": [],
   "source": [
    "def prediction(X, Y, W, B):\n",
    "    \n",
    "    Z = np.dot(W.T, X) + B\n",
    "    pred = sigmoid(Z)\n",
    "    \n",
    "    pred = pred > 0.5 #This returns bool\n",
    "    \n",
    "    pred = np.array(pred, dtype = 'int64')\n",
    "    \n",
    "    return pred"
   ]
  },
  {
   "cell_type": "code",
   "execution_count": 170,
   "id": "fcb2eb23",
   "metadata": {},
   "outputs": [
    {
     "name": "stdout",
     "output_type": "stream",
     "text": [
      "The train accuracy in % is:  100.0\n",
      "The test accuracy in % is:  83.33333333333334\n"
     ]
    }
   ],
   "source": [
    "print(\"The train accuracy in % is: \",accuracy(X_train, y_train, W, b))\n",
    "print(\"The test accuracy in % is: \",accuracy(X_test, y_test, W, b))"
   ]
  },
  {
   "cell_type": "markdown",
   "id": "42b01e28",
   "metadata": {},
   "source": [
    "### 5b"
   ]
  },
  {
   "cell_type": "code",
   "execution_count": 171,
   "id": "812c1601",
   "metadata": {},
   "outputs": [],
   "source": [
    "def LogisticReg1(X_train, Y_train, lr, n_iter):\n",
    "    \n",
    "    m = X_train.shape[1]\n",
    "    n = X_train.shape[0]\n",
    "    lamda=0.01 #regularizer\n",
    "    \n",
    "    W = np.array([[1.5],[0.5]]) #initializing weights with 1.5 and 0.5 as given in question\n",
    "    b = -1 \n",
    "    \n",
    "    cost_list = []\n",
    "    \n",
    "    for i in range(n_iter):\n",
    "        \n",
    "        Z = np.dot(W.T, X_train) + b\n",
    "        pred = sigmoid(Z)\n",
    "        \n",
    "        # cost function\n",
    "        cost = -(1/m)*np.sum( Y_train*np.log(pred) + (1-Y_train)*np.log(1-pred))\n",
    "        \n",
    "        # Gradient Descent\n",
    "        dW = (1/m)*np.dot(pred-Y_train, X_train.T)\n",
    "        db = (1/m)*np.sum(pred - Y_train)\n",
    "        \n",
    "        W = W - lr*dW.T-(lamda*W)\n",
    "        b = b - lr*db\n",
    "        \n",
    "        if(i==0):\n",
    "            W_iter1=W\n",
    "            b_iter1=b\n",
    "            print(\"Θ1 and Θ2 after first iteration is: \",W_iter1[0],W_iter1[1])\n",
    "            print(\"Θ0 after the first iteration is: \",b_iter1)\n",
    "        \n",
    "        # Keeping track of our cost function value\n",
    "        cost_list.append(cost)\n",
    "        \n",
    "        if(i%(n_iter/10) == 0):\n",
    "            print(\"cost after \", i, \"iteration is : \", cost)\n",
    "        \n",
    "    return W, b,cost_list"
   ]
  },
  {
   "cell_type": "code",
   "execution_count": 172,
   "id": "214eacd4",
   "metadata": {},
   "outputs": [
    {
     "data": {
      "text/plain": [
       "(2, 1)"
      ]
     },
     "execution_count": 172,
     "metadata": {},
     "output_type": "execute_result"
    }
   ],
   "source": [
    "arr= np.array([[1],[2]])\n",
    "arr.shape"
   ]
  },
  {
   "cell_type": "code",
   "execution_count": 173,
   "id": "574833bb",
   "metadata": {},
   "outputs": [
    {
     "name": "stdout",
     "output_type": "stream",
     "text": [
      "Θ1 and Θ2 after first iteration is:  [1.49035086] [0.49696867]\n",
      "Θ0 after the first iteration is:  -1.0031662597725644\n",
      "cost after  0 iteration is :  0.5569500797547651\n",
      "cost after  1000 iteration is :  0.6102913998434697\n",
      "cost after  2000 iteration is :  0.6104028271006632\n",
      "cost after  3000 iteration is :  0.6104033292541154\n",
      "cost after  4000 iteration is :  0.6104033315304968\n",
      "cost after  5000 iteration is :  0.6104033315408166\n",
      "cost after  6000 iteration is :  0.6104033315408623\n",
      "cost after  7000 iteration is :  0.6104033315408623\n",
      "cost after  8000 iteration is :  0.6104033315408623\n",
      "cost after  9000 iteration is :  0.6104033315408623\n"
     ]
    }
   ],
   "source": [
    "iterations = 10000\n",
    "learning_rate = 0.1\n",
    "W1, b1, cost_list = LogisticReg1(X_train, y_train, lr = learning_rate, n_iter = iterations)"
   ]
  },
  {
   "cell_type": "code",
   "execution_count": 174,
   "id": "63a18798",
   "metadata": {},
   "outputs": [
    {
     "name": "stdout",
     "output_type": "stream",
     "text": [
      "The test accuracy in % is:  83.33333333333334\n"
     ]
    }
   ],
   "source": [
    "print(\"The test accuracy in % is: \",accuracy(X_test, y_test, W1, b1))"
   ]
  },
  {
   "cell_type": "code",
   "execution_count": 175,
   "id": "39579cde",
   "metadata": {},
   "outputs": [
    {
     "name": "stdout",
     "output_type": "stream",
     "text": [
      "Precision:  0.75 Recall:  1.0\n"
     ]
    }
   ],
   "source": [
    "from sklearn.metrics import precision_score, recall_score\n",
    "pred=prediction(X_test, y_test, W1, b1)\n",
    "y_pred=pred[0]\n",
    "y_pred = y_pred.reshape(1, X_train.shape[1])\n",
    "y_pred=y_pred.T\n",
    "y_test=y_test.T\n",
    "ps=precision_score(y_test,y_pred)\n",
    "rs=recall_score(y_test,y_pred)\n",
    "print(\"Precision: \",ps,\"Recall: \",rs)"
   ]
  },
  {
   "cell_type": "code",
   "execution_count": null,
   "id": "9904e7e2",
   "metadata": {},
   "outputs": [],
   "source": []
  },
  {
   "cell_type": "code",
   "execution_count": null,
   "id": "5c70cc10",
   "metadata": {},
   "outputs": [],
   "source": []
  },
  {
   "cell_type": "code",
   "execution_count": null,
   "id": "8a682728",
   "metadata": {},
   "outputs": [],
   "source": []
  },
  {
   "cell_type": "code",
   "execution_count": null,
   "id": "0510379c",
   "metadata": {},
   "outputs": [],
   "source": []
  },
  {
   "cell_type": "code",
   "execution_count": null,
   "id": "d1b39969",
   "metadata": {},
   "outputs": [],
   "source": []
  }
 ],
 "metadata": {
  "kernelspec": {
   "display_name": "Python 3",
   "language": "python",
   "name": "python3"
  },
  "language_info": {
   "codemirror_mode": {
    "name": "ipython",
    "version": 3
   },
   "file_extension": ".py",
   "mimetype": "text/x-python",
   "name": "python",
   "nbconvert_exporter": "python",
   "pygments_lexer": "ipython3",
   "version": "3.8.8"
  }
 },
 "nbformat": 4,
 "nbformat_minor": 5
}
